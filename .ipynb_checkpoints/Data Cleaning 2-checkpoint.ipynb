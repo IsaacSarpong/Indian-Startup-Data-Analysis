{
 "cells": [
  {
   "cell_type": "markdown",
   "id": "a8fa571f",
   "metadata": {},
   "source": [
    "## TEAM-EDINBURGH\n",
    "\n",
    "\n",
    "Project Title - The Indian Start-Up Case\n",
    "\n",
    "* Context\n",
    "\n",
    "The data for this project spans from 2018-2019. Our goal will be to satisfy the processes for handling the data and also provide a detailed analysis of the process using the CRISP-DM data analysis framework.\n",
    "\n",
    "This Notebook will include conclusions on the following :\n",
    "\n",
    "* Asking the relevant questions and stating some hypothesis.\n",
    "* Cleaning the data.\n",
    "\n",
    "Questions?\n",
    "\n",
    "* Do companies in certain sectors tend to receive more funding than others?\n",
    "\n",
    "* Is there a correlation between the stage of development of a company and the amount of funding it receives?\n",
    "\n",
    "* Are companies with more founders more likely to receive larger amounts of funding?\n",
    "\n",
    "* Are there any patterns in the location of a company's headquarters and the amount of funding it receives?\n",
    "\n",
    "* Does the number of investors in a company tend to impact the amount of funding it receives?\n",
    "\n",
    "* Founders: How many founders are associated with each company? What is the average number of founders?\n",
    "\n",
    "* What are the top 10 companies with the highest funding?\n",
    "\n",
    "\n",
    "Hypothesis! \n",
    "\n",
    "* Startups in the e-commerce and fintech sectors receive more funding compared to other sectors in India.\n",
    "\n",
    "* There is a positive correlation between the stage of development of a company and the amount of funding it receives in India.\n",
    "\n",
    "* Companies with a larger number of founders are more likely to receive higher amounts of funding in India.\n",
    "\n",
    "* Startups headquartered in major metropolitan areas such as Mumbai, Bangalore, and Delhi are more likely to receive larger amounts of funding in India.\n",
    "\n",
    "* The number of investors in a company is positively correlated with the amount of funding it receives in India.\n",
    "\n",
    "* Is there a relationship between the sector of a company and the amount of funding it receives?\n",
    "\n",
    "* Is there a difference in the average funding received by companies headquartered in different regions?"
   ]
  },
  {
   "cell_type": "markdown",
   "id": "3bddb0ab",
   "metadata": {},
   "source": [
    "## Importing libraries & accessing the size and shape of the data"
   ]
  },
  {
   "cell_type": "code",
   "execution_count": null,
   "id": "6538f5eb",
   "metadata": {},
   "outputs": [],
   "source": [
    "import pandas as pd \n",
    "import numpy as np\n",
    "import matplotlib.pyplot as plt"
   ]
  },
  {
   "cell_type": "code",
   "execution_count": null,
   "id": "3b2f48d2",
   "metadata": {},
   "outputs": [],
   "source": [
    "ind_2018 = pd.read_csv('C:\\\\Users\\\\GILBERT\\\\Downloads\\\\DAP2\\Indian Start-up Project\\\\startup_funding2018.csv')\n",
    "ind_2019 = pd.read_csv('C:\\\\Users\\\\GILBERT\\\\Downloads\\\\DAP2\\\\Indian Start-up Project\\\\startup_funding2019.csv')\n",
    "ind_2020 = pd.read_csv('C:\\\\Users\\\\GILBERT\\\\Downloads\\\\DAP2\\\\Indian Start-up Project\\\\startup_funding2020.csv')\n",
    "ind_2021 = pd.read_csv('C:\\\\Users\\\\GILBERT\\\\Downloads\\\\DAP2\\\\Indian Start-up Project\\\\startup_funding2021.csv')"
   ]
  },
  {
   "cell_type": "code",
   "execution_count": null,
   "id": "0bbd3a64",
   "metadata": {},
   "outputs": [],
   "source": [
    "ind_2018.head()"
   ]
  },
  {
   "cell_type": "code",
   "execution_count": null,
   "id": "e4a16ba7",
   "metadata": {},
   "outputs": [],
   "source": [
    "ind_2018.info()"
   ]
  },
  {
   "cell_type": "code",
   "execution_count": null,
   "id": "2feabfd6",
   "metadata": {},
   "outputs": [],
   "source": [
    "ind_2018.isna().sum()"
   ]
  },
  {
   "cell_type": "markdown",
   "id": "6e3bb749",
   "metadata": {},
   "source": [
    "## Filtering the data ,replacing and rename values & a date series(random)"
   ]
  },
  {
   "cell_type": "code",
   "execution_count": null,
   "id": "2dc2bb79",
   "metadata": {},
   "outputs": [],
   "source": [
    "ind_2018['Year']=2018\n",
    "ind_2018['Founded']='NaN'\n",
    "ind_2018= ind_2018.rename(columns={'Company Name': 'Company/Brand'})\n",
    "ind_2018= ind_2018.rename(columns={'Industry': 'Sector'})\n",
    "ind_2018= ind_2018.rename(columns={'Location': 'HeadQuarter'})\n",
    "ind_2018= ind_2018.rename(columns={'Amount': 'Amount($)'})\n",
    "ind_2018= ind_2018.rename(columns={'Round/Series': 'Stage'})\n",
    "ind_2018.drop('About Company',axis=1,inplace=True)"
   ]
  },
  {
   "cell_type": "code",
   "execution_count": null,
   "id": "dd1e8845",
   "metadata": {},
   "outputs": [],
   "source": [
    "# replace empty values with NaN\n",
    "ind_2018['Sector'].replace('—', pd.np.nan, inplace=True)"
   ]
  },
  {
   "cell_type": "code",
   "execution_count": null,
   "id": "ab003fa6",
   "metadata": {},
   "outputs": [],
   "source": [
    "ind_2018.loc[58, 'Sector'] = 'Entertainment'\n",
    "ind_2018.loc[105, 'Sector'] = 'Finance'\n",
    "ind_2018.loc[121, 'Sector'] = 'Automotive'\n",
    "ind_2018.loc[146, 'Sector'] = 'Automotive'\n",
    "ind_2018.loc[153, 'Sector'] = 'Food'\n",
    "ind_2018.loc[174, 'Sector'] = 'Technology'\n",
    "ind_2018.loc[181, 'Sector'] = 'Finance'\n",
    "ind_2018.loc[210, 'Sector'] = 'Automotive'\n",
    "ind_2018.loc[230, 'Sector'] = 'Real Estate'\n",
    "ind_2018.loc[235, 'Sector'] = 'Technology'\n",
    "ind_2018.loc[238, 'Sector'] = 'Technology'\n",
    "ind_2018.loc[242, 'Sector'] = 'Real Estate'\n",
    "ind_2018.loc[243, 'Sector'] = 'Technology'\n",
    "ind_2018.loc[247, 'Sector'] = 'Technology'\n",
    "ind_2018.loc[251, 'Sector'] = 'Wellness'\n",
    "ind_2018.loc[257, 'Sector'] = 'Marketing'\n",
    "ind_2018.loc[258, 'Sector'] = 'Marketing'\n",
    "ind_2018.loc[259, 'Sector'] = 'E-Commerce'\n",
    "ind_2018.loc[257, 'Sector'] = 'Marketing'\n",
    "ind_2018.loc[294, 'Sector'] = 'Transportation'\n",
    "ind_2018.loc[325, 'Sector'] = 'Technology'\n",
    "ind_2018.loc[326, 'Sector'] = 'Finance'\n",
    "ind_2018.loc[346, 'Sector'] = 'Finance'\n",
    "ind_2018.loc[398, 'Sector'] = 'Finance'\n",
    "ind_2018.loc[457, 'Sector'] = 'Agriculture'\n",
    "ind_2018.loc[472, 'Sector'] = 'Technology'\n",
    "ind_2018.loc[473, 'Sector'] = 'Technology'\n",
    "ind_2018.loc[476, 'Sector'] = 'Technology'\n",
    "ind_2018.loc[478, 'Sector'] = 'Wellness/Beauty'\n",
    "ind_2018.loc[480, 'Sector'] = 'Hospitality'\n",
    "ind_2018.loc[510, 'Sector'] = 'Technology'"
   ]
  },
  {
   "cell_type": "code",
   "execution_count": null,
   "id": "ff87aee8",
   "metadata": {},
   "outputs": [],
   "source": [
    "ind_2018.head(511)"
   ]
  },
  {
   "cell_type": "code",
   "execution_count": null,
   "id": "cfcdd4e4",
   "metadata": {},
   "outputs": [],
   "source": [
    "ind_2018.isna().sum()"
   ]
  },
  {
   "cell_type": "markdown",
   "id": "9a555b5d",
   "metadata": {},
   "source": [
    "## Filling the anomalies in this column by containing the valid values and replacing the missing values"
   ]
  },
  {
   "cell_type": "code",
   "execution_count": null,
   "id": "8c37d967",
   "metadata": {},
   "outputs": [],
   "source": [
    "# # create a DatetimeIndex with dates for the entire year\n",
    "date_range = pd.date_range(start='2018-01-01', end='2018-12-31', freq='D')\n",
    "\n",
    "# # create a new column 'Date' with random dates within the year 2018\n",
    "ind_2018['Date'] = np.random.choice(date_range, size=len(ind_2018))\n",
    "\n",
    "ind_2018 = ind_2018.sort_values('Date')\n",
    "\n",
    "ind_2018['Date'] = pd.to_datetime(ind_2018['Date'], format='%Y-%m-%d')\n"
   ]
  },
  {
   "cell_type": "code",
   "execution_count": null,
   "id": "d2e7e2a8",
   "metadata": {},
   "outputs": [],
   "source": [
    "ind_2018.set_index('Date',inplace=True)"
   ]
  },
  {
   "cell_type": "markdown",
   "id": "22caddb1",
   "metadata": {},
   "source": [
    "## Changing the shape of the amount col & currency(rates conidered),filling the missing values with mean of the column."
   ]
  },
  {
   "cell_type": "code",
   "execution_count": null,
   "id": "70f719f6",
   "metadata": {},
   "outputs": [],
   "source": [
    "def convert_to_dollars(value):\n",
    "    if pd.isnull(value):\n",
    "        return np.nan\n",
    "    elif isinstance(value, float):\n",
    "        return str(value)\n",
    "    elif '$' in value:\n",
    "        return value\n",
    "    elif '₹' in value:\n",
    "        return '$' + str(round(float(value.split('₹')[1].replace(',', '')) / 68.44, 2))\n",
    "    else:\n",
    "        return '$' + str(float(value) / 68.44)\n",
    "\n",
    "\n",
    "# convert values in 'Amount($)' column to strings\n",
    "ind_2018['Amount($)'] = ind_2018['Amount($)'].astype(str)\n",
    "\n",
    "ind_2018['Amount($)'] = ind_2018['Amount($)'].str.replace('[^\\d\\.]', '')\n",
    "\n",
    "ind_2018['Amount($)'].replace('', np.nan, inplace=True)\n",
    "\n",
    "ind_2018['Amount($)'] = ind_2018['Amount($)'].astype(float)\n",
    "\n",
    "ind_2018['Amount($)'] = ind_2018['Amount($)'].apply(convert_to_dollars)\n"
   ]
  },
  {
   "cell_type": "code",
   "execution_count": null,
   "id": "e644081f",
   "metadata": {},
   "outputs": [],
   "source": [
    "# # convert the 'Amount' column to a numeric data type\n",
    "ind_2018['Amount($)'] = pd.to_numeric(ind_2018['Amount($)'])\n",
    "ind_2018['Amount($)'] = pd.to_numeric(ind_2018['Amount($)'])"
   ]
  },
  {
   "cell_type": "code",
   "execution_count": null,
   "id": "f9a0d5fc",
   "metadata": {},
   "outputs": [],
   "source": [
    "ind_2018.describe()"
   ]
  },
  {
   "cell_type": "code",
   "execution_count": null,
   "id": "d2e368fb",
   "metadata": {},
   "outputs": [],
   "source": [
    "ind_2018.duplicated()"
   ]
  },
  {
   "cell_type": "code",
   "execution_count": null,
   "id": "df24e12d",
   "metadata": {},
   "outputs": [],
   "source": [
    "ind_2018.isna().sum()"
   ]
  },
  {
   "cell_type": "code",
   "execution_count": null,
   "id": "b2e3a96c",
   "metadata": {},
   "outputs": [],
   "source": [
    "ind_2018.head()"
   ]
  },
  {
   "cell_type": "code",
   "execution_count": null,
   "id": "90c84236",
   "metadata": {},
   "outputs": [],
   "source": [
    "# Create a histogram of the 'Amount' column\n",
    "plt.hist(ind_2018['Amount($)'], bins=20)\n",
    "plt.title('Distribution of Amount')\n",
    "plt.xlabel('Amount($)')\n",
    "plt.ylabel('Frequency')\n",
    "plt.show()"
   ]
  },
  {
   "cell_type": "code",
   "execution_count": null,
   "id": "2df92412",
   "metadata": {},
   "outputs": [],
   "source": [
    "ind_2018['Amount($)'] = ind_2018['Amount($)'].fillna(ind_2018['Amount($)'].median())"
   ]
  },
  {
   "cell_type": "code",
   "execution_count": null,
   "id": "be30365e",
   "metadata": {},
   "outputs": [],
   "source": [
    "ind_2018['Amount($)'] = ind_2018['Amount($)'].astype(int)"
   ]
  },
  {
   "cell_type": "code",
   "execution_count": null,
   "id": "5119702c",
   "metadata": {},
   "outputs": [],
   "source": [
    "ind_2018.isna().sum()"
   ]
  },
  {
   "cell_type": "code",
   "execution_count": null,
   "id": "377e0bec",
   "metadata": {},
   "outputs": [],
   "source": [
    "ind_2018.head(100)"
   ]
  },
  {
   "cell_type": "markdown",
   "id": "bfffbb26",
   "metadata": {},
   "source": [
    "## Replacing missing values in stage & Founded col / filtering headquater col / filtering the sector col by closing them in related col by using str.contain"
   ]
  },
  {
   "cell_type": "code",
   "execution_count": null,
   "id": "2bac89c2",
   "metadata": {},
   "outputs": [],
   "source": [
    "valid_stages = ['Venture - Series Unknown','Seed', 'Angel', 'Series A', 'Series B', 'Pre-Seed', 'Grant', 'Series H', \n",
    "                'Series A', 'Series C', 'Series E', 'Corporate Round','Series D','Debt financing','Post-IPO Equity']\n",
    "\n",
    "ind_2018.loc[~ind_2018['Stage'].isin(valid_stages), 'Stage'] = np.nan"
   ]
  },
  {
   "cell_type": "code",
   "execution_count": null,
   "id": "5d0eea0f",
   "metadata": {},
   "outputs": [],
   "source": [
    "mode_value = ind_2018['Stage'].mode()[0]\n",
    "print(mode_value)"
   ]
  },
  {
   "cell_type": "code",
   "execution_count": null,
   "id": "56139227",
   "metadata": {},
   "outputs": [],
   "source": [
    "ind_2018['Stage'] = ind_2018['Stage'].fillna(ind_2018['Stage'].mode()[0])\n",
    "ind_2018['Founded'] = ind_2018['Founded'].replace('NaN', np.nan)"
   ]
  },
  {
   "cell_type": "code",
   "execution_count": null,
   "id": "ce2f4087",
   "metadata": {},
   "outputs": [],
   "source": [
    "ind_2018.head(100)"
   ]
  },
  {
   "cell_type": "code",
   "execution_count": null,
   "id": "7da60b84",
   "metadata": {},
   "outputs": [],
   "source": [
    "ind_2018.isna().sum()"
   ]
  },
  {
   "cell_type": "code",
   "execution_count": null,
   "id": "ae3e1f0d",
   "metadata": {},
   "outputs": [],
   "source": [
    "# Split the Headquarters column by comma, and keep only the first value\n",
    "ind_2018[\"City\"] = ind_2018[\"HeadQuarter\"].apply(lambda x: x.split(\",\")[0])"
   ]
  },
  {
   "cell_type": "code",
   "execution_count": null,
   "id": "0d8ffbb7",
   "metadata": {},
   "outputs": [],
   "source": [
    "ind_2018.head()"
   ]
  },
  {
   "cell_type": "code",
   "execution_count": null,
   "id": "9a086d53",
   "metadata": {},
   "outputs": [],
   "source": [
    "ind_2018.drop('HeadQuarter',axis=1,inplace=True)"
   ]
  },
  {
   "cell_type": "code",
   "execution_count": null,
   "id": "1d9ad02a",
   "metadata": {},
   "outputs": [],
   "source": [
    "ind_2018 = ind_2018.rename(columns={'City': 'HeadQuarter'})"
   ]
  },
  {
   "cell_type": "code",
   "execution_count": null,
   "id": "805eada5",
   "metadata": {},
   "outputs": [],
   "source": [
    "# replace \"Bengaluru\" with \"Bangalore\" in the \"headquarter\" column\n",
    "ind_2018['HeadQuarter'] = ind_2018['HeadQuarter'].str.replace('Bengaluru', 'Bangalore')"
   ]
  },
  {
   "cell_type": "code",
   "execution_count": null,
   "id": "418b562b",
   "metadata": {},
   "outputs": [],
   "source": [
    "ind_2018.isna().sum()"
   ]
  },
  {
   "cell_type": "code",
   "execution_count": null,
   "id": "490e4a41",
   "metadata": {},
   "outputs": [],
   "source": [
    "tech = ['Mobile','Technology', 'Internet', 'Software', 'Hardware','SaaS','Blockchain','Apps','Information Services','SEM',\n",
    "        'Artificial Intelligence','CleanTech','Aerospace','Robotics','Ai','PaaS','Medtech','Agritech','HR tech',\n",
    "       'Tech','FoodTech','Safety tech','IoT','Legal tech','Infratech','Netwokring platform','Telecommunication','Cloud','Aero',\n",
    "       'Virtual','Content','Photonics','app','Proptech','Deeptech','AR','VR','Agri tech','-Tech','AgriTech','IT','Network',\n",
    "        'Data','HrTech','Foodtech','Spacetech','E-mobility','Automation','Logitech','HRTech','Drone','MLOps','Innovation',\n",
    "       'BioTechnology','TaaS','network','equipment','SpaceTech','CRM','MarTech','Nanotechnology','Femtech','startup','AI']\n",
    "fin = ['Lending','Finance','Insurance', 'Payments','Financial Services','Credit','Credit Cards','Mutual Funds',\n",
    "       'Banking','Escrow','Venture','financial','Taxation','Capital','firm','Equity']\n",
    "fint = ['NFT','Virtual Banking','FinTech','Fintech','Cryptocurrency','Crypto','Insurtech','InsurTech']\n",
    "health = ['Health', 'Medical','Pharmaceutical','Health Diagnotics','Health Care','Hospital','Biotechnology','Biopharma',\n",
    "         'Hygiene management','HealthTech','Healthcare','HealthCare','laboratory','Biotech','Healthtech','HeathTech',\n",
    "         'Helathcare','Veterinary']\n",
    "mkt = ['Brand Marketing','Marketing','Event Promotion','Market']\n",
    "agric = ['Farming','Agriculture','Nutrition','Hauz Khas','Fishery']\n",
    "con = ['Food','Food and Beverages','Dairy','Beverages','Beer','FMCG']\n",
    "econ = ['B2B','Shopping','E-Commerce','Trading Platform','E-commerce','E-marketplace','marketplace','e-commerce','Ecommerce',\n",
    "        'E-market','Commerce','Trading platform']\n",
    "cons = ['Wholesale','Consumer','Shoes','Packaging','Retail','Consulting','Food Delivery']\n",
    "edu = ['E-Learning','EdTech','Education','Communities','Edtech','Preschool','School']\n",
    "welln = ['Lifestyle','Beauty','Wellness','Cosmetics','Yoga','Skincare','D2C','Fitness','Lifestyle','Training']\n",
    "real_est=['Real Estate','Home Decor','Accomodation','Interior design','Home Design','Home interior','Co-living',\n",
    "          'Construction']\n",
    "log = ['Logistics','Rental','Tourism','Travel','TravelTech','Transport','Transportation','Aviation','Mobility']\n",
    "\n",
    "auto = ['Automotive','Electric vehicle','Industrial Automation','Vehicles','Automotive tech','Automobile','Tyre','car','Car',\n",
    "       'Vehicle','Mechanical']\n",
    "manu = ['Manufacturing']\n",
    "ener = ['Renewable Energy','Solar','Energy','Energy Storage','Battery','Oil and Gas','Renewable','EV','Electricity',\n",
    "       'purification','Renewables']\n",
    "medi = ['Entertainment','Media','News','Video','Digital Media','FM','Publication','OTT','Social Network','Music',\n",
    "        'Digital platform','Podcast','publishing','Blogging']\n",
    "game = ['Gaming','Games','Sports']\n",
    "\n",
    "style = ['Fashion','Jewelry','Eyeglasses','Eye Wear','Apparel','Dating','Celebrity','Eyewear','D2C Fashion','Matrimony',\n",
    "         'Textiles','D2C jewellery','Foootwear','Arts']\n",
    "hos =['Hospitality','Hotel','Leisure']\n",
    "\n",
    "\n",
    "\n",
    "ind_2018['Sector_clean'] = 'Other'\n",
    "ind_2018.loc[ind_2018['Sector'].str.contains('|'.join(tech)), 'Sector_clean'] = 'Technology'\n",
    "ind_2018.loc[ind_2018['Sector'].str.contains('|'.join(fin)), 'Sector_clean'] = 'Finance'\n",
    "ind_2018.loc[ind_2018['Sector'].str.contains('|'.join(health)), 'Sector_clean'] = 'Healthcare'\n",
    "ind_2018.loc[ind_2018['Sector'].str.contains('|'.join(mkt)), 'Sector_clean'] = 'Marketing'\n",
    "ind_2018.loc[ind_2018['Sector'].str.contains('|'.join(agric)), 'Sector_clean'] = 'Agriculture'\n",
    "ind_2018.loc[ind_2018['Sector'].str.contains('|'.join(econ)), 'Sector_clean'] = 'E-Commerce'\n",
    "ind_2018.loc[ind_2018['Sector'].str.contains('|'.join(edu)), 'Sector_clean'] = 'Education'\n",
    "ind_2018.loc[ind_2018['Sector'].str.contains('|'.join(welln)), 'Sector_clean'] = 'Wellness/Beauty'\n",
    "ind_2018.loc[ind_2018['Sector'].str.contains('|'.join(real_est)), 'Sector_clean'] = 'Real Estate'\n",
    "ind_2018.loc[ind_2018['Sector'].str.contains('|'.join(log)), 'Sector_clean'] = 'Logistics'\n",
    "\n",
    "ind_2018.loc[ind_2018['Sector'].str.contains('|'.join(auto)), 'Sector_clean'] = 'Automotive'\n",
    "ind_2018.loc[ind_2018['Sector'].str.contains('|'.join(manu)), 'Sector_clean'] = 'Manufacture'\n",
    "ind_2018.loc[ind_2018['Sector'].str.contains('|'.join(ener)), 'Sector_clean'] = 'Energy'\n",
    "ind_2018.loc[ind_2018['Sector'].str.contains('|'.join(medi)), 'Sector_clean'] = 'Media/Entertainment'\n",
    "ind_2018.loc[ind_2018['Sector'].str.contains('|'.join(hos)), 'Sector_clean'] = 'Hospitality'\n",
    "ind_2018.loc[ind_2018['Sector'].str.contains('|'.join(style)), 'Sector_clean'] = 'Lifestyle'\n",
    "ind_2018.loc[ind_2018['Sector'].str.contains('|'.join(cons)), 'Sector_clean'] = 'Consumer Services'\n",
    "ind_2018.loc[ind_2018['Sector'].str.contains('|'.join(game)), 'Sector_clean'] = 'Gaming'\n",
    "ind_2018.loc[ind_2018['Sector'].str.contains('|'.join(fint)), 'Sector_clean'] = 'FinTech'\n",
    "ind_2018.loc[ind_2018['Sector'].str.contains('|'.join(con)), 'Sector_clean'] = 'Consumables'"
   ]
  },
  {
   "cell_type": "code",
   "execution_count": null,
   "id": "8331876c",
   "metadata": {},
   "outputs": [],
   "source": [
    "ind_2018.drop('Sector',axis=1,inplace=True)"
   ]
  },
  {
   "cell_type": "code",
   "execution_count": null,
   "id": "6a821585",
   "metadata": {},
   "outputs": [],
   "source": [
    "ind_2018= ind_2018.rename(columns={'Sector_clean': 'Sector'})"
   ]
  },
  {
   "cell_type": "code",
   "execution_count": null,
   "id": "d1f8ab9f",
   "metadata": {},
   "outputs": [],
   "source": [
    "ind_2018.head()"
   ]
  },
  {
   "cell_type": "markdown",
   "id": "d4847166",
   "metadata": {},
   "source": [
    "## Ploting visuals to check the shape of the dataframe"
   ]
  },
  {
   "cell_type": "code",
   "execution_count": null,
   "id": "4cfa61d3",
   "metadata": {},
   "outputs": [],
   "source": [
    "import seaborn as sns\n",
    "\n",
    "# Plot a line chart of funding amounts over time\n",
    "funding_over_time = ind_2018.groupby('Date')['Amount($)'].sum().reset_index()\n",
    "sns.lineplot(data=funding_over_time, x='Date', y='Amount($)')\n",
    "plt.show()\n"
   ]
  },
  {
   "cell_type": "code",
   "execution_count": null,
   "id": "6bfbaae0",
   "metadata": {},
   "outputs": [],
   "source": [
    "if ind_2018.empty:\n",
    "    print(\"No data found for the year 2018\")\n",
    "else:\n",
    "    # Calculate the total funding by sector\n",
    "    total_funding_by_sector = ind_2018.groupby('Sector')['Amount($)'].sum().reset_index()\n",
    "\n",
    "    top_10_sectors = total_funding_by_sector.sort_values(by='Amount($)', ascending=False).head(10)\n",
    "\n",
    "    ax = sns.barplot(data=top_10_sectors, x='Sector', y='Amount($)')\n",
    "    ax.set_xticklabels(ax.get_xticklabels(), rotation=90)\n",
    "    plt.show()\n"
   ]
  },
  {
   "cell_type": "markdown",
   "id": "7c9a2912",
   "metadata": {},
   "source": [
    "## Accessing the shape of the data, Filling the missing the val with statistical means,Dropping columns,Creating a date series"
   ]
  },
  {
   "cell_type": "code",
   "execution_count": null,
   "id": "c6cfc794",
   "metadata": {},
   "outputs": [],
   "source": [
    "ind_2019.head()"
   ]
  },
  {
   "cell_type": "code",
   "execution_count": null,
   "id": "0c2994b9",
   "metadata": {},
   "outputs": [],
   "source": [
    "ind_2019.info()"
   ]
  },
  {
   "cell_type": "code",
   "execution_count": null,
   "id": "949c5b2f",
   "metadata": {},
   "outputs": [],
   "source": [
    "ind_2019.describe()"
   ]
  },
  {
   "cell_type": "code",
   "execution_count": null,
   "id": "527cab14",
   "metadata": {},
   "outputs": [],
   "source": [
    "ind_2019.isna().sum()"
   ]
  },
  {
   "cell_type": "code",
   "execution_count": null,
   "id": "4395b3a4",
   "metadata": {},
   "outputs": [],
   "source": [
    "ind_2019.duplicated()"
   ]
  },
  {
   "cell_type": "code",
   "execution_count": null,
   "id": "d9858d80",
   "metadata": {},
   "outputs": [],
   "source": [
    "ind_2019['Sector'].replace('—', pd.np.nan, inplace=True)\n",
    "\n",
    "ind_2019['Year']=2019"
   ]
  },
  {
   "cell_type": "code",
   "execution_count": null,
   "id": "4e5a9834",
   "metadata": {},
   "outputs": [],
   "source": [
    "ind_2019.isna().sum()"
   ]
  },
  {
   "cell_type": "code",
   "execution_count": null,
   "id": "9833a8ee",
   "metadata": {},
   "outputs": [],
   "source": [
    "ind_2019.loc[41, 'Sector'] = 'Media'\n",
    "ind_2019.loc[49, 'Sector'] = 'Human Resources'\n",
    "ind_2019.loc[52, 'Sector'] = 'Technology'\n",
    "ind_2019.loc[56, 'Sector'] = 'Technology'\n",
    "ind_2019.loc[57, 'Sector'] = 'E-Commerce'"
   ]
  },
  {
   "cell_type": "code",
   "execution_count": null,
   "id": "02df32e7",
   "metadata": {},
   "outputs": [],
   "source": [
    "ind_2019.drop('What it does',axis=1,inplace=True)"
   ]
  },
  {
   "cell_type": "code",
   "execution_count": null,
   "id": "9511e146",
   "metadata": {},
   "outputs": [],
   "source": [
    "# # create a DatetimeIndex with dates for the entire year\n",
    "date_range = pd.date_range(start='2019-01-01', end='2019-12-31', freq='D')\n",
    "\n",
    "# # create a new column 'Date' with random dates within the year 2018\n",
    "ind_2019['Date'] = np.random.choice(date_range, size=len(ind_2019))\n",
    "\n",
    "ind_2019 = ind_2019.sort_values('Date')\n",
    "\n",
    "ind_2019['Date'] = pd.to_datetime(ind_2019['Date'], format='%Y-%m-%d')"
   ]
  },
  {
   "cell_type": "code",
   "execution_count": null,
   "id": "a61ffe8c",
   "metadata": {},
   "outputs": [],
   "source": [
    "ind_2019.set_index('Date',inplace=True)"
   ]
  },
  {
   "cell_type": "code",
   "execution_count": null,
   "id": "1acba5d3",
   "metadata": {},
   "outputs": [],
   "source": [
    "mode_value = ind_2019['Founders'].mode()[0]\n",
    "print(mode_value)\n",
    "\n",
    "mode_value = ind_2019['HeadQuarter'].mode()[0]\n",
    "print(mode_value)\n",
    "\n",
    "mode_value = ind_2019['Stage'].mode()[0]\n",
    "print(mode_value)"
   ]
  },
  {
   "cell_type": "code",
   "execution_count": null,
   "id": "c7062e24",
   "metadata": {},
   "outputs": [],
   "source": [
    "ind_2019['HeadQuarter'] = ind_2019['HeadQuarter'].fillna(ind_2019['HeadQuarter'].mode()[0])\n",
    "ind_2019['Stage'] = ind_2019['Stage'].fillna(ind_2019['Stage'].mode()[0])\n",
    "ind_2019['Founders'] = ind_2019['Founders'].fillna(ind_2019['Founders'].mode()[0])"
   ]
  },
  {
   "cell_type": "markdown",
   "id": "24a168a0",
   "metadata": {},
   "source": [
    "## Using Statiscal means to fill the missing values in the founded column"
   ]
  },
  {
   "cell_type": "code",
   "execution_count": null,
   "id": "9a126250",
   "metadata": {},
   "outputs": [],
   "source": [
    "ind_2019['Founded'] = pd.to_numeric(ind_2019['Founded'], errors='coerce')"
   ]
  },
  {
   "cell_type": "code",
   "execution_count": null,
   "id": "b1620481",
   "metadata": {},
   "outputs": [],
   "source": [
    "ind_2019['Founded'] = ind_2019['Founded'].fillna(0)"
   ]
  },
  {
   "cell_type": "code",
   "execution_count": null,
   "id": "b44fffef",
   "metadata": {},
   "outputs": [],
   "source": [
    "plt.hist(ind_2019['Founded'], bins=20)\n",
    "plt.title('Distribution of Year')\n",
    "plt.xlabel('Founded')\n",
    "plt.ylabel('Frequency')\n",
    "plt.show()"
   ]
  },
  {
   "cell_type": "code",
   "execution_count": null,
   "id": "86ec32f6",
   "metadata": {},
   "outputs": [],
   "source": [
    "ind_2019['Founded'].replace(0, np.nan, inplace=True)"
   ]
  },
  {
   "cell_type": "code",
   "execution_count": null,
   "id": "0c64ff75",
   "metadata": {},
   "outputs": [],
   "source": [
    "ind_2019.isna().sum()"
   ]
  },
  {
   "cell_type": "code",
   "execution_count": null,
   "id": "43007fa4",
   "metadata": {},
   "outputs": [],
   "source": [
    "ind_2019['Founded'].fillna(ind_2019['Founded'].median(), inplace=True)"
   ]
  },
  {
   "cell_type": "code",
   "execution_count": null,
   "id": "2db87e66",
   "metadata": {},
   "outputs": [],
   "source": [
    "ind_2019['Founded'] = ind_2019['Founded'].astype(int)"
   ]
  },
  {
   "cell_type": "markdown",
   "id": "9d09ebf6",
   "metadata": {},
   "source": [
    "## Restructuring the shape of the column & using statistical means to fill them, Restructuring the name convention of the sector column by containing it in a list of substrings and assigning it to name. "
   ]
  },
  {
   "cell_type": "code",
   "execution_count": null,
   "id": "88d1cd64",
   "metadata": {},
   "outputs": [],
   "source": [
    "ind_2019['Amount($)'].replace('', pd.np.nan, inplace=True)"
   ]
  },
  {
   "cell_type": "code",
   "execution_count": null,
   "id": "25ac8634",
   "metadata": {},
   "outputs": [],
   "source": [
    "ind_2019['Amount($)'] = ind_2019['Amount($)'].str.replace('[^\\d\\.]', '')"
   ]
  },
  {
   "cell_type": "code",
   "execution_count": null,
   "id": "b483ccc0",
   "metadata": {},
   "outputs": [],
   "source": [
    "ind_2019['Amount($)'] = pd.to_numeric(ind_2019['Amount($)'])\n",
    "ind_2019['Amount($)'] = pd.to_numeric(ind_2019['Amount($)'])"
   ]
  },
  {
   "cell_type": "code",
   "execution_count": null,
   "id": "b1a8dddd",
   "metadata": {},
   "outputs": [],
   "source": [
    "ind_2019.head()"
   ]
  },
  {
   "cell_type": "code",
   "execution_count": null,
   "id": "539b744c",
   "metadata": {},
   "outputs": [],
   "source": [
    "ind_2019.isna().sum()"
   ]
  },
  {
   "cell_type": "code",
   "execution_count": null,
   "id": "bb60af26",
   "metadata": {},
   "outputs": [],
   "source": [
    "# Create a histogram of the 'Amount' column\n",
    "plt.hist(ind_2019['Amount($)'], bins=20)\n",
    "plt.title('Distribution of Amount')\n",
    "plt.xlabel('Amount($)')\n",
    "plt.ylabel('Frequency')\n",
    "plt.show()"
   ]
  },
  {
   "cell_type": "code",
   "execution_count": null,
   "id": "ae68f62e",
   "metadata": {},
   "outputs": [],
   "source": [
    "ind_2019['Amount($)'] = ind_2019['Amount($)'].fillna(ind_2019['Amount($)'].median())"
   ]
  },
  {
   "cell_type": "code",
   "execution_count": null,
   "id": "234e0ffc",
   "metadata": {},
   "outputs": [],
   "source": [
    "ind_2019['Amount($)'] = ind_2019['Amount($)'].astype(int)"
   ]
  },
  {
   "cell_type": "code",
   "execution_count": null,
   "id": "b55e657c",
   "metadata": {},
   "outputs": [],
   "source": [
    "ind_2019.head()"
   ]
  },
  {
   "cell_type": "code",
   "execution_count": null,
   "id": "7797dbed",
   "metadata": {},
   "outputs": [],
   "source": [
    "ind_2019.isna().sum()"
   ]
  },
  {
   "cell_type": "code",
   "execution_count": null,
   "id": "cc345f7b",
   "metadata": {},
   "outputs": [],
   "source": [
    "# # Create a list of substrings to search for in the Sector column\n",
    "tech = ['Mobile','Technology', 'Internet', 'Software', 'Hardware','SaaS','Blockchain','Apps','Information Services','SEM',\n",
    "        'Artificial Intelligence','CleanTech','Aerospace','Robotics','Ai','PaaS','Medtech','Agritech','HR tech',\n",
    "       'Tech','FoodTech','Safety tech','IoT','Legal tech','Infratech','Netwokring platform','Telecommunication','Cloud','Aero',\n",
    "       'Virtual','Content','Photonics','app','Proptech','Deeptech','AR','VR','Agri tech','-Tech','AgriTech','IT','Network',\n",
    "        'Data','HrTech','Foodtech','Spacetech','E-mobility','Automation','Logitech','HRTech','Drone','MLOps','Innovation',\n",
    "       'BioTechnology','TaaS','network','equipment','SpaceTech','CRM','MarTech','Nanotechnology','Femtech','startup','AI']\n",
    "fin = ['Lending','Finance','Insurance', 'Payments','Financial Services','Credit','Credit Cards','Mutual Funds',\n",
    "       'Banking','Escrow','Venture','financial','Taxation','Capital','firm','Equity']\n",
    "fint = ['NFT','Virtual Banking','FinTech','Fintech','Cryptocurrency','Crypto','Insurtech','InsurTech']\n",
    "health = ['Health', 'Medical','Pharmaceutical','Health Diagnotics','Health Care','Hospital','Biotechnology','Biopharma',\n",
    "         'Hygiene management','HealthTech','Healthcare','HealthCare','laboratory','Biotech','Healthtech','HeathTech',\n",
    "         'Helathcare','Veterinary']\n",
    "mkt = ['Brand Marketing','Marketing','Event Promotion','Market']\n",
    "agric = ['Farming','Agriculture','Nutrition','Hauz Khas','Fishery']\n",
    "con = ['Food','Food and Beverages','Dairy','Beverages','Beer','FMCG']\n",
    "econ = ['B2B','Shopping','E-Commerce','Trading Platform','E-commerce','E-marketplace','marketplace','e-commerce','Ecommerce',\n",
    "        'E-market','Commerce','Trading platform']\n",
    "cons = ['Wholesale','Consumer','Shoes','Packaging','Retail','Consulting','Food Delivery']\n",
    "edu = ['E-Learning','EdTech','Education','Communities','Edtech','Preschool','School']\n",
    "welln = ['Lifestyle','Beauty','Wellness','Cosmetics','Yoga','Skincare','D2C','Fitness','Lifestyle','Training']\n",
    "real_est=['Real Estate','Home Decor','Accomodation','Interior design','Home Design','Home interior','Co-living',\n",
    "          'Construction']\n",
    "log = ['Logistics','Rental','Tourism','Travel','TravelTech','Transport','Transportation','Aviation','Mobility']\n",
    "\n",
    "auto = ['Automotive','Electric vehicle','Industrial Automation','Vehicles','Automotive tech','Automobile','Tyre','car','Car',\n",
    "       'Vehicle','Mechanical']\n",
    "manu = ['Manufacturing']\n",
    "ener = ['Renewable Energy','Solar','Energy','Energy Storage','Battery','Oil and Gas','Renewable','EV','Electricity',\n",
    "       'purification','Renewables']\n",
    "medi = ['Entertainment','Media','News','Video','Digital Media','FM','Publication','OTT','Social Network','Music',\n",
    "        'Digital platform','Podcast','publishing','Blogging']\n",
    "game = ['Gaming','Games','Sports']\n",
    "\n",
    "style = ['Fashion','Jewelry','Eyeglasses','Eye Wear','Apparel','Dating','Celebrity','Eyewear','D2C Fashion','Matrimony',\n",
    "         'Textiles','D2C jewellery','Foootwear','Arts']\n",
    "hos =['Hospitality','Hotel','Leisure']\n",
    "\n",
    "\n",
    "ind_2019['Sector_clean'] = 'Other'\n",
    "ind_2019.loc[ind_2019['Sector'].str.contains('|'.join(tech)), 'Sector_clean'] = 'Technology'\n",
    "ind_2019.loc[ind_2019['Sector'].str.contains('|'.join(fin)), 'Sector_clean'] = 'Finance'\n",
    "ind_2019.loc[ind_2019['Sector'].str.contains('|'.join(health)), 'Sector_clean'] = 'Healthcare'\n",
    "ind_2019.loc[ind_2019['Sector'].str.contains('|'.join(mkt)), 'Sector_clean'] = 'Marketing'\n",
    "ind_2019.loc[ind_2019['Sector'].str.contains('|'.join(agric)), 'Sector_clean'] = 'Agriculture'\n",
    "ind_2019.loc[ind_2019['Sector'].str.contains('|'.join(econ)), 'Sector_clean'] = 'E-Commerce'\n",
    "ind_2019.loc[ind_2019['Sector'].str.contains('|'.join(edu)), 'Sector_clean'] = 'Education'\n",
    "ind_2019.loc[ind_2019['Sector'].str.contains('|'.join(welln)), 'Sector_clean'] = 'Wellness/Beauty'\n",
    "ind_2019.loc[ind_2019['Sector'].str.contains('|'.join(real_est)), 'Sector_clean'] = 'Real Estate'\n",
    "ind_2019.loc[ind_2019['Sector'].str.contains('|'.join(log)), 'Sector_clean'] = 'Logistics'\n",
    "\n",
    "ind_2019.loc[ind_2019['Sector'].str.contains('|'.join(auto)), 'Sector_clean'] = 'Automotive'\n",
    "ind_2019.loc[ind_2019['Sector'].str.contains('|'.join(manu)), 'Sector_clean'] = 'Manufacture'\n",
    "ind_2019.loc[ind_2019['Sector'].str.contains('|'.join(ener)), 'Sector_clean'] = 'Energy'\n",
    "ind_2019.loc[ind_2019['Sector'].str.contains('|'.join(medi)), 'Sector_clean'] = 'Media/Entertainment'\n",
    "ind_2019.loc[ind_2019['Sector'].str.contains('|'.join(hos)), 'Sector_clean'] = 'Hospitality'\n",
    "ind_2019.loc[ind_2019['Sector'].str.contains('|'.join(style)), 'Sector_clean'] = 'Lifestyle'\n",
    "ind_2019.loc[ind_2019['Sector'].str.contains('|'.join(cons)), 'Sector_clean'] = 'Consumer Services'\n",
    "ind_2019.loc[ind_2019['Sector'].str.contains('|'.join(game)), 'Sector_clean'] = 'Gaming'\n",
    "ind_2019.loc[ind_2019['Sector'].str.contains('|'.join(fint)), 'Sector_clean'] = 'FinTech'\n",
    "ind_2019.loc[ind_2019['Sector'].str.contains('|'.join(con)), 'Sector_clean'] = 'Consumables'"
   ]
  },
  {
   "cell_type": "code",
   "execution_count": null,
   "id": "c3ea963b",
   "metadata": {},
   "outputs": [],
   "source": [
    "ind_2019.drop('Sector',axis=1,inplace=True)"
   ]
  },
  {
   "cell_type": "code",
   "execution_count": null,
   "id": "e2fb3c7d",
   "metadata": {},
   "outputs": [],
   "source": [
    "ind_2019= ind_2019.rename(columns={'Sector_clean': 'Sector'})"
   ]
  },
  {
   "cell_type": "code",
   "execution_count": null,
   "id": "64083125",
   "metadata": {},
   "outputs": [],
   "source": [
    "ind_2019.head()"
   ]
  },
  {
   "cell_type": "markdown",
   "id": "94d88fb6",
   "metadata": {},
   "source": [
    "## Ploting Visuals to check the shape of the dataframe"
   ]
  },
  {
   "cell_type": "code",
   "execution_count": null,
   "id": "145d5aa9",
   "metadata": {},
   "outputs": [],
   "source": [
    "if ind_2019.empty:\n",
    "    print(\"No data found for the year 2019\")\n",
    "else:\n",
    "    # Calculate the total funding by sector\n",
    "    total_funding_by_sector = ind_2019.groupby('Sector')['Amount($)'].sum().reset_index()\n",
    "\n",
    "    top_10_sectors = total_funding_by_sector.sort_values(by='Amount($)', ascending=False).head(10)\n",
    "\n",
    "    ax = sns.barplot(data=top_10_sectors, x='Sector', y='Amount($)')\n",
    "    ax.set_xticklabels(ax.get_xticklabels(), rotation=90)\n",
    "    plt.show()\n"
   ]
  },
  {
   "cell_type": "code",
   "execution_count": null,
   "id": "64860b21",
   "metadata": {},
   "outputs": [],
   "source": [
    "# Get the top ten headquarters\n",
    "top_ten_hq = ind_2019['HeadQuarter'].value_counts().nlargest(10)\n",
    "\n",
    "# Create a bar chart\n",
    "plt.figure(figsize=(10, 6))\n",
    "plt.bar(top_ten_hq.index, top_ten_hq.values, color='blue')\n",
    "plt.title('Top Ten Headquarters in ind_2019')\n",
    "plt.xlabel('Headquarters')\n",
    "plt.ylabel('Frequency')\n",
    "plt.xticks(rotation=45)\n",
    "plt.show()"
   ]
  },
  {
   "cell_type": "markdown",
   "id": "7598d92e",
   "metadata": {},
   "source": [
    "## Checking the shape of the data,Replace missing values and dropping,adding a date series"
   ]
  },
  {
   "cell_type": "code",
   "execution_count": null,
   "id": "8b04d6b0",
   "metadata": {},
   "outputs": [],
   "source": [
    "ind_2020.head()"
   ]
  },
  {
   "cell_type": "code",
   "execution_count": null,
   "id": "9e8b4d23",
   "metadata": {},
   "outputs": [],
   "source": [
    "ind_2020.describe()"
   ]
  },
  {
   "cell_type": "code",
   "execution_count": null,
   "id": "a1ca9e05",
   "metadata": {},
   "outputs": [],
   "source": [
    "ind_2020['Sector'].replace('—', pd.np.nan, inplace=True)\n",
    "\n",
    "ind_2020['Year']=2020"
   ]
  },
  {
   "cell_type": "code",
   "execution_count": null,
   "id": "57db87ae",
   "metadata": {},
   "outputs": [],
   "source": [
    "ind_2020.isna().sum()"
   ]
  },
  {
   "cell_type": "code",
   "execution_count": null,
   "id": "6ce2ea35",
   "metadata": {},
   "outputs": [],
   "source": [
    "ind_2020.loc[518, 'Sector'] = 'E-Commerce'\n",
    "ind_2020.loc[569, 'Sector'] = 'E-Commerce'\n",
    "ind_2020.loc[687, 'Sector'] = 'Social Work'\n",
    "ind_2020.loc[699, 'Sector'] = 'Beauty&Wellness'\n",
    "ind_2020.loc[707, 'Sector'] = 'E-Commerce'\n",
    "ind_2020.loc[732, 'Sector'] = 'Technology'\n",
    "ind_2020.loc[746, 'Sector'] = 'E-Commerce'\n",
    "ind_2020.loc[763, 'Sector'] = 'E-Commerce'\n",
    "ind_2020.loc[746, 'Sector'] = 'E-Commerce'\n",
    "ind_2020.loc[809, 'Sector'] = 'Technology'\n",
    "ind_2020.loc[918, 'Sector'] = 'Fintech'\n",
    "ind_2020.loc[926, 'Sector'] = 'Real Estate'\n",
    "ind_2020.loc[1012, 'Sector'] = 'Technology'\n",
    "ind_2020.loc[1031, 'Sector'] = 'Technology'\n",
    "ind_2020.loc[746, 'Sector'] = 'E-Commerce'"
   ]
  },
  {
   "cell_type": "code",
   "execution_count": null,
   "id": "54d2641f",
   "metadata": {},
   "outputs": [],
   "source": [
    "ind_2020.isna().sum()"
   ]
  },
  {
   "cell_type": "code",
   "execution_count": null,
   "id": "4ea078c1",
   "metadata": {},
   "outputs": [],
   "source": [
    "ind_2020.duplicated()"
   ]
  },
  {
   "cell_type": "code",
   "execution_count": null,
   "id": "74ce7a2a",
   "metadata": {},
   "outputs": [],
   "source": [
    "ind_2020.drop_duplicates(inplace=True)"
   ]
  },
  {
   "cell_type": "code",
   "execution_count": null,
   "id": "ea7e65e1",
   "metadata": {},
   "outputs": [],
   "source": [
    "# create a DatetimeIndex with dates for the entire year\n",
    "date_range = pd.date_range(start='2020-01-01', end='2020-12-31', freq='D')\n",
    "\n",
    "# create a new column 'Date' with random dates within the year 2018\n",
    "ind_2020['Date'] = np.random.choice(date_range, size=len(ind_2020))\n",
    "\n",
    "ind_2020 = ind_2020.sort_values('Date')\n",
    "\n",
    "ind_2020['Date'] = pd.to_datetime(ind_2020['Date'], format='%Y-%m-%d')"
   ]
  },
  {
   "cell_type": "code",
   "execution_count": null,
   "id": "ad96c4e9",
   "metadata": {},
   "outputs": [],
   "source": [
    "ind_2020.set_index('Date',inplace=True)"
   ]
  },
  {
   "cell_type": "markdown",
   "id": "3fe7fa8e",
   "metadata": {},
   "source": [
    "## Filling & replacing val in the HQ col using dictionary then filling in missing values for dif col, using substrings to alter some rows"
   ]
  },
  {
   "cell_type": "code",
   "execution_count": null,
   "id": "d47df289",
   "metadata": {},
   "outputs": [],
   "source": [
    "cities_to_replace = [\"Tirunelveli, Tamilnadu\", \"Frisco, Texas, United States\", \"Dhingsara, Haryana\", \"New York, United States\",\n",
    "\"Jaipur, Rajastan\", \"Jaipur, Rajastan\", \"San Francisco, California, United States\", \"San Francisco, United States\", \n",
    " \"San Ramon, California\", \"Paris, Ile-de-France, France\", \"Plano, Texas, United States\",\n",
    "\"San Francisco Bay Area, Silicon Valley,West Coast\", \"London, England, United Kingdom\", \"Sydney, New South Wales, Australia\", \n",
    "\"Milano, Lombardia, Italy\", \"New York, United States\", \"Palmwoods, Queensland, Australia\", \"London, England, United Kingdom\", \n",
    "\"San Francisco Bay Area, West Coast, Western US\", \"Trivandrum, Kerala, India\", \"Samastipur, Bihar\",\n",
    "\"Irvine, California, United States\", \"Tumkur, Karnataka\", \"San Francisco Bay Area, Silicon Valley, West Coast\", \n",
    "\"San Francisco, California, United States\", \"Newcastle Upon Tyne, Newcastle upon Tyne, United Kingdom\", \"Shanghai, China\", \n",
    "\"Jiaxing, Zhejiang, China\", \"Tangerang, Jawa Barat, Indonesia\"]\n",
    "\n",
    "new_cities = ['Tamilnadu', 'Texas', 'Haryana', 'New York', 'Rajastan', 'Rajastan', 'San Francisco', 'San Francisco', \n",
    "'San Ramon', 'Paris', 'Texas', 'San Francisco', 'London', 'Sydney', 'Milano', 'New York', 'Queensland', 'London', \n",
    "'San Francisco', 'Kerala', 'Biphar', 'California', 'Karnataka', 'San Francisco', 'San Francisco', 'Newcastle', 'Shanghai', \n",
    "'Jiaxing', 'Jawa Barat']\n",
    "\n",
    "for city, new_city in zip(cities_to_replace, new_cities):\n",
    "    ind_2020['HeadQuarter'] = ind_2020['HeadQuarter'].apply(lambda x: new_city if city in str(x) else x)\n"
   ]
  },
  {
   "cell_type": "code",
   "execution_count": null,
   "id": "7329dfbe",
   "metadata": {},
   "outputs": [],
   "source": [
    "ind_2020.isna().sum()"
   ]
  },
  {
   "cell_type": "code",
   "execution_count": null,
   "id": "3ccf0cd2",
   "metadata": {},
   "outputs": [],
   "source": [
    "ind_2020.head()"
   ]
  },
  {
   "cell_type": "code",
   "execution_count": null,
   "id": "14ff29c6",
   "metadata": {},
   "outputs": [],
   "source": [
    "mode_value = ind_2020['Founders'].mode()[0]\n",
    "print(mode_value)\n",
    "\n",
    "mode_value = ind_2020['Stage'].mode()[0]\n",
    "print(mode_value)\n",
    "\n",
    "mode_value = ind_2020['Investor'].mode()[0]\n",
    "print(mode_value)\n",
    "\n",
    "mode_value = ind_2020['HeadQuarter'].mode()[0]\n",
    "print(mode_value)"
   ]
  },
  {
   "cell_type": "code",
   "execution_count": null,
   "id": "9ddddd87",
   "metadata": {},
   "outputs": [],
   "source": [
    "ind_2020['Founders'] = ind_2020['Founders'].fillna(ind_2020['Founders'].mode()[0])\n",
    "ind_2020['Stage'] = ind_2020['Stage'].fillna(ind_2020['Stage'].mode()[0])\n",
    "ind_2020['Investor'] = ind_2020['Investor'].fillna(ind_2020['Investor'].mode()[0])\n",
    "ind_2020['HeadQuarter'] = ind_2020['HeadQuarter'].fillna(ind_2020['HeadQuarter'].mode()[0])"
   ]
  },
  {
   "cell_type": "code",
   "execution_count": null,
   "id": "fa2d1487",
   "metadata": {},
   "outputs": [],
   "source": [
    "seedr = ['seed round','Seed round','Seed Round',]\n",
    "preser= ['Pre Series A','Pre series A','Pre-series A','Pre-Series A']\n",
    "\n",
    "ind_2020.loc[ind_2020['Stage'].str.contains('|'.join(seedr)), 'Stage'] = 'Seed Round'\n",
    "ind_2020.loc[ind_2020['Stage'].str.contains('|'.join(preser)), 'Stage'] = 'Pre-series A'"
   ]
  },
  {
   "cell_type": "code",
   "execution_count": null,
   "id": "ae3d93af",
   "metadata": {},
   "outputs": [],
   "source": [
    "ind_2020['Founded'] = pd.to_numeric(ind_2020['Founded'], errors='coerce')\n",
    "\n",
    "ind_2020['Founded'] = ind_2020['Founded'].fillna(0)"
   ]
  },
  {
   "cell_type": "code",
   "execution_count": null,
   "id": "f5675304",
   "metadata": {},
   "outputs": [],
   "source": [
    "plt.hist(ind_2020['Founded'], bins=20)\n",
    "plt.title('Distribution of Year')\n",
    "plt.xlabel('Founded')\n",
    "plt.ylabel('Frequency')\n",
    "plt.show()"
   ]
  },
  {
   "cell_type": "code",
   "execution_count": null,
   "id": "40812911",
   "metadata": {},
   "outputs": [],
   "source": [
    "plt.boxplot(ind_2020['Founded'].dropna())\n",
    "plt.title('Distribution of Year')\n",
    "plt.xlabel('Founded')\n",
    "plt.show()"
   ]
  },
  {
   "cell_type": "code",
   "execution_count": null,
   "id": "ef986833",
   "metadata": {},
   "outputs": [],
   "source": [
    "ind_2020['Founded'].replace(0, np.nan, inplace=True)"
   ]
  },
  {
   "cell_type": "code",
   "execution_count": null,
   "id": "968ef848",
   "metadata": {},
   "outputs": [],
   "source": [
    "ind_2020['Founded'].fillna(ind_2020['Founded'].median(), inplace=True)\n",
    "\n",
    "ind_2020['Founded'] = ind_2020['Founded'].astype(int)"
   ]
  },
  {
   "cell_type": "code",
   "execution_count": null,
   "id": "1596675a",
   "metadata": {},
   "outputs": [],
   "source": [
    "ind_2020.head()"
   ]
  },
  {
   "cell_type": "code",
   "execution_count": null,
   "id": "a39b72df",
   "metadata": {},
   "outputs": [],
   "source": [
    "ind_2020.drop('What it does',axis=1,inplace=True)"
   ]
  },
  {
   "cell_type": "code",
   "execution_count": null,
   "id": "94d864a1",
   "metadata": {},
   "outputs": [],
   "source": [
    "ind_2020.drop('Unnamed: 9',axis=1,inplace=True)"
   ]
  },
  {
   "cell_type": "code",
   "execution_count": null,
   "id": "ac47da11",
   "metadata": {},
   "outputs": [],
   "source": [
    "ind_2020.isna().sum()"
   ]
  },
  {
   "cell_type": "code",
   "execution_count": null,
   "id": "69266425",
   "metadata": {},
   "outputs": [],
   "source": [
    "ind_2020.head(50)"
   ]
  },
  {
   "cell_type": "markdown",
   "id": "0b788b10",
   "metadata": {},
   "source": [
    "## Converting the structure of the amt col,filling missing val with stats data,creating a substring to structure the sector column"
   ]
  },
  {
   "cell_type": "code",
   "execution_count": null,
   "id": "eaa584aa",
   "metadata": {},
   "outputs": [],
   "source": [
    "ind_2020['Amount($)'].replace('', pd.np.nan, inplace=True)\n",
    "ind_2020['Amount($)'] = ind_2020['Amount($)'].replace('undisclosed', np.nan)"
   ]
  },
  {
   "cell_type": "code",
   "execution_count": null,
   "id": "64e9ed32",
   "metadata": {},
   "outputs": [],
   "source": [
    "# if it is not already a string, convert it to string\n",
    "if ind_2020['Amount($)'].dtype != 'object':\n",
    "    ind_2020['Amount($)'] = ind_2020['Amount($)'].astype(str)\n",
    "\n",
    "# # remove non-numeric characters from the 'Amount' column\n",
    "ind_2020['Amount($)'] = ind_2020['Amount($)'].str.replace('[^\\d\\.]', '')\n",
    "\n",
    "ind_2020['Amount($)'] = pd.to_numeric(ind_2020['Amount($)'])"
   ]
  },
  {
   "cell_type": "code",
   "execution_count": null,
   "id": "60f55223",
   "metadata": {},
   "outputs": [],
   "source": [
    "ind_2020.head()"
   ]
  },
  {
   "cell_type": "code",
   "execution_count": null,
   "id": "956d7950",
   "metadata": {},
   "outputs": [],
   "source": [
    "ind_2020['Amount($)'] = ind_2020['Amount($)'].fillna(0)"
   ]
  },
  {
   "cell_type": "code",
   "execution_count": null,
   "id": "f53af485",
   "metadata": {},
   "outputs": [],
   "source": [
    "ind_2020.isna().sum()"
   ]
  },
  {
   "cell_type": "code",
   "execution_count": null,
   "id": "75ed9f35",
   "metadata": {},
   "outputs": [],
   "source": [
    "plt.hist(ind_2020['Amount($)'], bins=20)\n",
    "plt.title('Distribution of Amount')\n",
    "plt.xlabel('Amount($)')\n",
    "plt.ylabel('Frequency')\n",
    "plt.show()"
   ]
  },
  {
   "cell_type": "code",
   "execution_count": null,
   "id": "2d9a6935",
   "metadata": {},
   "outputs": [],
   "source": [
    "plt.boxplot(ind_2020['Amount($)'])\n",
    "plt.title('Distribution of Amount')\n",
    "plt.xlabel('Amount($)')\n",
    "plt.show()"
   ]
  },
  {
   "cell_type": "code",
   "execution_count": null,
   "id": "6470f88a",
   "metadata": {},
   "outputs": [],
   "source": [
    "ind_2020['Amount($)'].replace(0, np.nan, inplace=True)"
   ]
  },
  {
   "cell_type": "code",
   "execution_count": null,
   "id": "2d8b5900",
   "metadata": {},
   "outputs": [],
   "source": [
    "ind_2020.isna().sum()"
   ]
  },
  {
   "cell_type": "code",
   "execution_count": null,
   "id": "96dcca8e",
   "metadata": {},
   "outputs": [],
   "source": [
    "ind_2020['Amount($)'].fillna(ind_2020['Amount($)'].median(), inplace=True)\n",
    "\n",
    "ind_2020['Amount($)'] = ind_2020['Amount($)'].astype(int)"
   ]
  },
  {
   "cell_type": "code",
   "execution_count": null,
   "id": "c7bac11a",
   "metadata": {},
   "outputs": [],
   "source": [
    "ind_2020.head()"
   ]
  },
  {
   "cell_type": "code",
   "execution_count": null,
   "id": "ab388577",
   "metadata": {},
   "outputs": [],
   "source": [
    "# # Create a list of substrings to search for in the Sector column\n",
    "tech = ['Mobile','Technology', 'Internet', 'Software', 'Hardware','SaaS','Blockchain','Apps','Information Services','SEM',\n",
    "        'Artificial Intelligence','CleanTech','Aerospace','Robotics','Ai','PaaS','Medtech','Agritech','HR tech',\n",
    "       'Tech','FoodTech','Safety tech','IoT','Legal tech','Infratech','Netwokring platform','Telecommunication','Cloud','Aero',\n",
    "       'Virtual','Content','Photonics','app','Proptech','Deeptech','AR','VR','Agri tech','-Tech','AgriTech','IT','Network',\n",
    "        'Data','HrTech','Foodtech','Spacetech','E-mobility','Automation','Logitech','HRTech','Drone','MLOps','Innovation',\n",
    "       'BioTechnology','TaaS','network','equipment','SpaceTech','CRM','MarTech','Nanotechnology','Femtech','startup','AI']\n",
    "fin = ['Lending','Finance','Insurance', 'Payments','Financial Services','Credit','Credit Cards','Mutual Funds',\n",
    "       'Banking','Escrow','Venture','financial','Taxation','Capital','firm','Equity']\n",
    "fint = ['NFT','Virtual Banking','FinTech','Fintech','Cryptocurrency','Crypto','Insurtech','InsurTech']\n",
    "health = ['Health', 'Medical','Pharmaceutical','Health Diagnotics','Health Care','Hospital','Biotechnology','Biopharma',\n",
    "         'Hygiene management','HealthTech','Healthcare','HealthCare','laboratory','Biotech','Healthtech','HeathTech',\n",
    "         'Helathcare','Veterinary']\n",
    "mkt = ['Brand Marketing','Marketing','Event Promotion','Market']\n",
    "agric = ['Farming','Agriculture','Nutrition','Hauz Khas','Fishery']\n",
    "con = ['Food','Food and Beverages','Dairy','Beverages','Beer','FMCG','Beverage']\n",
    "econ = ['B2B','Shopping','E-Commerce','Trading Platform','E-commerce','E-marketplace','marketplace','e-commerce','Ecommerce',\n",
    "        'E-market','Commerce','Trading platform']\n",
    "cons = ['Wholesale','Consumer','Shoes','Packaging','Retail','Consulting','Food Delivery']\n",
    "edu = ['E-Learning','EdTech','Education','Communities','Edtech','Preschool','School']\n",
    "welln = ['Lifestyle','Beauty','Wellness','Cosmetics','Yoga','Skincare','D2C','Fitness','Lifestyle','Training']\n",
    "real_est=['Real Estate','Home Decor','Accomodation','Interior design','Home Design','Home interior','Co-living',\n",
    "          'Construction']\n",
    "log = ['Logistics','Rental','Tourism','Travel','TravelTech','Transport','Transportation','Aviation','Mobility']\n",
    "\n",
    "auto = ['Automotive','Electric vehicle','Industrial Automation','Vehicles','Automotive tech','Automobile','Tyre','car','Car',\n",
    "       'Vehicle','Mechanical']\n",
    "manu = ['Manufacturing']\n",
    "ener = ['Renewable Energy','Solar','Energy','Energy Storage','Battery','Oil and Gas','Renewable','EV','Electricity',\n",
    "       'purification','Renewables']\n",
    "medi = ['Entertainment','Media','News','Video','Digital Media','FM','Publication','OTT','Social Network','Music',\n",
    "        'Digital platform','Podcast','publishing','Blogging']\n",
    "game = ['Gaming','Games','Sports']\n",
    "\n",
    "style = ['Fashion','Jewelry','Eyeglasses','Eye Wear','Apparel','Dating','Celebrity','Eyewear','D2C Fashion','Matrimony',\n",
    "         'Textiles','D2C jewellery','Foootwear','Arts']\n",
    "hos =['Hospitality','Hotel','Leisure']\n",
    "\n",
    "\n",
    "ind_2020['Sector_clean'] = 'Other'\n",
    "ind_2020.loc[ind_2020['Sector'].str.contains('|'.join(tech)), 'Sector_clean'] = 'Technology'\n",
    "ind_2020.loc[ind_2020['Sector'].str.contains('|'.join(fin)), 'Sector_clean'] = 'Finance'\n",
    "ind_2020.loc[ind_2020['Sector'].str.contains('|'.join(health)), 'Sector_clean'] = 'Healthcare'\n",
    "ind_2020.loc[ind_2020['Sector'].str.contains('|'.join(mkt)), 'Sector_clean'] = 'Marketing'\n",
    "ind_2020.loc[ind_2020['Sector'].str.contains('|'.join(agric)), 'Sector_clean'] = 'Agriculture'\n",
    "ind_2020.loc[ind_2020['Sector'].str.contains('|'.join(econ)), 'Sector_clean'] = 'E-Commerce'\n",
    "ind_2020.loc[ind_2020['Sector'].str.contains('|'.join(edu)), 'Sector_clean'] = 'Education'\n",
    "ind_2020.loc[ind_2020['Sector'].str.contains('|'.join(welln)), 'Sector_clean'] = 'Wellness/Beauty'\n",
    "ind_2020.loc[ind_2020['Sector'].str.contains('|'.join(real_est)), 'Sector_clean'] = 'Real Estate'\n",
    "ind_2020.loc[ind_2020['Sector'].str.contains('|'.join(log)), 'Sector_clean'] = 'Logistics'\n",
    "\n",
    "ind_2020.loc[ind_2020['Sector'].str.contains('|'.join(auto)), 'Sector_clean'] = 'Automotive'\n",
    "ind_2020.loc[ind_2020['Sector'].str.contains('|'.join(manu)), 'Sector_clean'] = 'Manufacture'\n",
    "ind_2020.loc[ind_2020['Sector'].str.contains('|'.join(ener)), 'Sector_clean'] = 'Energy'\n",
    "ind_2020.loc[ind_2020['Sector'].str.contains('|'.join(medi)), 'Sector_clean'] = 'Media/Entertainment'\n",
    "ind_2020.loc[ind_2020['Sector'].str.contains('|'.join(hos)), 'Sector_clean'] = 'Hospitality'\n",
    "ind_2020.loc[ind_2020['Sector'].str.contains('|'.join(style)), 'Sector_clean'] = 'Lifestyle'\n",
    "ind_2020.loc[ind_2020['Sector'].str.contains('|'.join(cons)), 'Sector_clean'] = 'Consumer Services'\n",
    "ind_2020.loc[ind_2020['Sector'].str.contains('|'.join(game)), 'Sector_clean'] = 'Gaming'\n",
    "ind_2020.loc[ind_2020['Sector'].str.contains('|'.join(fint)), 'Sector_clean'] = 'FinTech'\n",
    "ind_2020.loc[ind_2020['Sector'].str.contains('|'.join(con)), 'Sector_clean'] = 'Consumables'"
   ]
  },
  {
   "cell_type": "code",
   "execution_count": null,
   "id": "dc44d7c4",
   "metadata": {},
   "outputs": [],
   "source": [
    "ind_2020.head()"
   ]
  },
  {
   "cell_type": "code",
   "execution_count": null,
   "id": "3c6a1919",
   "metadata": {},
   "outputs": [],
   "source": [
    "ind_2020.drop('Sector',axis=1,inplace=True)"
   ]
  },
  {
   "cell_type": "code",
   "execution_count": null,
   "id": "1ed32b79",
   "metadata": {},
   "outputs": [],
   "source": [
    "ind_2020= ind_2020.rename(columns={'Sector_clean': 'Sector'})"
   ]
  },
  {
   "cell_type": "code",
   "execution_count": null,
   "id": "e9ebb01a",
   "metadata": {},
   "outputs": [],
   "source": [
    "ind_2020.isna().sum()"
   ]
  },
  {
   "cell_type": "code",
   "execution_count": null,
   "id": "be7cc2b2",
   "metadata": {},
   "outputs": [],
   "source": [
    "ind_2020.head(50)"
   ]
  },
  {
   "cell_type": "markdown",
   "id": "2bf45b1f",
   "metadata": {},
   "source": [
    "## Ploting visuals to check the dataframe shape"
   ]
  },
  {
   "cell_type": "code",
   "execution_count": null,
   "id": "cc6270f4",
   "metadata": {},
   "outputs": [],
   "source": [
    "top10_hq = ind_2020.groupby('HeadQuarter')['Amount($)'].sum().sort_values(ascending=False)[:10]\n",
    "\n",
    "plt.barh(top10_hq.index, top10_hq.values)\n",
    "plt.title('Top 10 Headquarters by Funding Amount in 2020')\n",
    "plt.xlabel('Funding Amount (in billions USD)')\n",
    "plt.ylabel('Headquarters')\n",
    "plt.show()"
   ]
  },
  {
   "cell_type": "code",
   "execution_count": null,
   "id": "b4088cf6",
   "metadata": {},
   "outputs": [],
   "source": [
    "top10_investors = ind_2020.groupby('Investor')['Amount($)'].sum().nlargest(10)\n",
    "\n",
    "plt.barh(top10_investors.index[::-1], top10_investors.values[::-1])\n",
    "plt.xlabel('Investment Amount (in USD)')\n",
    "plt.ylabel('Investor Name')\n",
    "plt.title('Top 10 Investors in Indian Startups (2020)')\n",
    "plt.tight_layout()\n",
    "plt.show()"
   ]
  },
  {
   "cell_type": "code",
   "execution_count": null,
   "id": "35299aef",
   "metadata": {},
   "outputs": [],
   "source": [
    "if ind_2020.empty:\n",
    "    print(\"No data found for the year 2018\")\n",
    "else:\n",
    "    # Calculate the total funding by sector\n",
    "    total_funding_by_sector = ind_2018.groupby('Sector')['Amount($)'].sum().reset_index()\n",
    "\n",
    "    top_10_sectors = total_funding_by_sector.sort_values(by='Amount($)', ascending=False).head(10)\n",
    "\n",
    "    ax = sns.barplot(data=top_10_sectors, x='Sector', y='Amount($)')\n",
    "    ax.set_xticklabels(ax.get_xticklabels(), rotation=90)\n",
    "    plt.show()\n"
   ]
  },
  {
   "cell_type": "markdown",
   "id": "cdbb73f1",
   "metadata": {},
   "source": [
    "## checking the data shape / filling missing values/ creating a date series"
   ]
  },
  {
   "cell_type": "code",
   "execution_count": null,
   "id": "e06e057e",
   "metadata": {},
   "outputs": [],
   "source": [
    "ind_2021.head()"
   ]
  },
  {
   "cell_type": "code",
   "execution_count": null,
   "id": "4f0b735e",
   "metadata": {},
   "outputs": [],
   "source": [
    "ind_2021.info()"
   ]
  },
  {
   "cell_type": "code",
   "execution_count": null,
   "id": "291524fe",
   "metadata": {},
   "outputs": [],
   "source": [
    "ind_2021.describe()"
   ]
  },
  {
   "cell_type": "code",
   "execution_count": null,
   "id": "13742bca",
   "metadata": {},
   "outputs": [],
   "source": [
    "ind_2021.isna().sum()"
   ]
  },
  {
   "cell_type": "code",
   "execution_count": null,
   "id": "47dc9c26",
   "metadata": {},
   "outputs": [],
   "source": [
    "# replace empty values with NaN\n",
    "ind_2021['Sector'].replace('—', pd.np.nan, inplace=True)\n",
    "\n",
    "ind_2021['Year']=2021"
   ]
  },
  {
   "cell_type": "code",
   "execution_count": null,
   "id": "d61b2fc9",
   "metadata": {},
   "outputs": [],
   "source": [
    "ind_2021.isna().sum()"
   ]
  },
  {
   "cell_type": "code",
   "execution_count": null,
   "id": "2aad61de",
   "metadata": {},
   "outputs": [],
   "source": [
    "# create a DatetimeIndex with dates for the entire year\n",
    "date_range = pd.date_range(start='2021-01-01', end='2021-12-31', freq='D')\n",
    "\n",
    "# create a new column 'Date' with random dates within the year 2018\n",
    "ind_2021['Date'] = np.random.choice(date_range, size=len(ind_2021))\n",
    "\n",
    "ind_2021 = ind_2021.sort_values('Date')\n",
    "\n",
    "ind_2021['Date'] = pd.to_datetime(ind_2021['Date'], format='%Y-%m-%d')\n"
   ]
  },
  {
   "cell_type": "markdown",
   "id": "d01501eb",
   "metadata": {},
   "source": [
    "## mask to identify rows where the 'Stage' column contains a dollar sign and assigns the value in that row to the 'Amount column,drop specific rows by their index number and assign 'NaN' values "
   ]
  },
  {
   "cell_type": "code",
   "execution_count": null,
   "id": "0764ce2e",
   "metadata": {},
   "outputs": [],
   "source": [
    "ind_2021.head(50)"
   ]
  },
  {
   "cell_type": "code",
   "execution_count": null,
   "id": "e29b7263",
   "metadata": {},
   "outputs": [],
   "source": [
    "mask = (~ind_2021['Stage'].isna()) & ind_2021['Stage'].str.contains('\\$')\n",
    "ind_2021.loc[mask, 'Amount($)'] = ind_2021.loc[mask, 'Stage']\n",
    "ind_2021.loc[mask, 'Stage'] = ''\n",
    "\n",
    "mask = (~ind_2021['Investor'].isna()) & ind_2021['Investor'].str.contains('\\$')\n",
    "ind_2021.loc[mask, 'Amount($)'] = ind_2021.loc[mask, 'Investor']\n",
    "ind_2021.loc[mask, 'Investor'] = ''\n",
    "\n",
    "\n",
    "ind_2021 = ind_2021.drop(111)\n",
    "\n",
    "ind_2021 = ind_2021.drop(256)\n",
    "\n",
    "ind_2021.loc[902, 'Investor'] = np.nan\n",
    "\n",
    "ind_2021.loc[59, 'Investor'] = np.nan\n",
    "\n",
    "ind_2021.loc[1100, 'Investor'] = np.nan\n",
    "\n",
    "ind_2021.loc[1148, 'Investor'] = np.nan"
   ]
  },
  {
   "cell_type": "code",
   "execution_count": null,
   "id": "a6c8d464",
   "metadata": {},
   "outputs": [],
   "source": [
    "ind_2021.head(60)"
   ]
  },
  {
   "cell_type": "code",
   "execution_count": null,
   "id": "463bd3e6",
   "metadata": {},
   "outputs": [],
   "source": [
    "ind_2021['HeadQuarter'].ffill(inplace=True)\n",
    "\n",
    "ind_2021['Stage'] = ind_2021['Stage'].fillna(ind_2021['Stage'].mode()[0])"
   ]
  },
  {
   "cell_type": "code",
   "execution_count": null,
   "id": "b2ff1708",
   "metadata": {},
   "outputs": [],
   "source": [
    "mode_value = ind_2021['Investor'].mode()[0]\n",
    "print(mode_value)"
   ]
  },
  {
   "cell_type": "code",
   "execution_count": null,
   "id": "7961c097",
   "metadata": {},
   "outputs": [],
   "source": [
    "ind_2021['Investor'] = ind_2021['Investor'].fillna(ind_2021['Investor'].mode()[0])"
   ]
  },
  {
   "cell_type": "code",
   "execution_count": null,
   "id": "d4b72dc3",
   "metadata": {},
   "outputs": [],
   "source": [
    "mode_value = ind_2021['Founders'].mode()[0]\n",
    "print(mode_value)"
   ]
  },
  {
   "cell_type": "code",
   "execution_count": null,
   "id": "319661fd",
   "metadata": {},
   "outputs": [],
   "source": [
    "ind_2021['Founders'] = ind_2021['Founders'].fillna(ind_2021['Founders'].mode()[0])"
   ]
  },
  {
   "cell_type": "code",
   "execution_count": null,
   "id": "ccee562b",
   "metadata": {},
   "outputs": [],
   "source": [
    "ind_2021.drop('What it does', axis=1,inplace=True)"
   ]
  },
  {
   "cell_type": "markdown",
   "id": "c4787f93",
   "metadata": {},
   "source": [
    "## Replacing the missing values in the founded column by using Statiscal means"
   ]
  },
  {
   "cell_type": "code",
   "execution_count": null,
   "id": "7d673754",
   "metadata": {},
   "outputs": [],
   "source": [
    "plt.hist(ind_2021['Founded'], bins=20)\n",
    "plt.title('Distribution of Year')\n",
    "plt.xlabel('Founded')\n",
    "plt.ylabel('Frequency')\n",
    "plt.show()"
   ]
  },
  {
   "cell_type": "code",
   "execution_count": null,
   "id": "3edbf8f1",
   "metadata": {},
   "outputs": [],
   "source": [
    "ind_2021['Founded'] = pd.to_numeric(ind_2021['Founded'], errors='coerce')"
   ]
  },
  {
   "cell_type": "code",
   "execution_count": null,
   "id": "3755bff1",
   "metadata": {},
   "outputs": [],
   "source": [
    "ind_2021['Founded'] = ind_2021['Founded'].fillna(ind_2021['Founded'].median())"
   ]
  },
  {
   "cell_type": "code",
   "execution_count": null,
   "id": "98dd5db8",
   "metadata": {},
   "outputs": [],
   "source": [
    "ind_2021.head(50)"
   ]
  },
  {
   "cell_type": "markdown",
   "id": "764d9a66",
   "metadata": {},
   "source": [
    "## Filtering & replacing missing values in the the amount col, containing the sector col into categories by putting them in substrings"
   ]
  },
  {
   "cell_type": "code",
   "execution_count": null,
   "id": "e45aec1e",
   "metadata": {},
   "outputs": [],
   "source": [
    "ind_2021.isna().sum()"
   ]
  },
  {
   "cell_type": "code",
   "execution_count": null,
   "id": "f8878ad3",
   "metadata": {},
   "outputs": [],
   "source": [
    "# replace empty values with NaN\n",
    "ind_2021['Amount($)'].replace('', pd.np.nan, inplace=True)"
   ]
  },
  {
   "cell_type": "code",
   "execution_count": null,
   "id": "c7e60d93",
   "metadata": {},
   "outputs": [],
   "source": [
    "ind_2021['Amount($)'] = ind_2021['Amount($)'].replace('undisclosed', np.nan)"
   ]
  },
  {
   "cell_type": "code",
   "execution_count": null,
   "id": "e0d705cb",
   "metadata": {},
   "outputs": [],
   "source": [
    "# if it is not already a string, convert it to string\n",
    "if ind_2021['Amount($)'].dtype != 'object':\n",
    "    ind_2021['Amount($)'] = ind_2021['Amount($)'].astype(str)\n",
    "\n",
    "# # remove non-numeric characters from the 'Amount' column\n",
    "ind_2021['Amount($)'] = ind_2021['Amount($)'].str.replace('[^\\d\\.]', '')\n",
    "\n",
    "ind_2021['Amount($)'] = pd.to_numeric(ind_2021['Amount($)'])"
   ]
  },
  {
   "cell_type": "code",
   "execution_count": null,
   "id": "b7726a54",
   "metadata": {},
   "outputs": [],
   "source": [
    "# Replace NaN values with 0\n",
    "ind_2021['Amount($)'] = ind_2021['Amount($)'].fillna(0)"
   ]
  },
  {
   "cell_type": "code",
   "execution_count": null,
   "id": "a86afa4e",
   "metadata": {},
   "outputs": [],
   "source": [
    "ind_2021.isna().sum()"
   ]
  },
  {
   "cell_type": "code",
   "execution_count": null,
   "id": "0579018a",
   "metadata": {},
   "outputs": [],
   "source": [
    "plt.hist(ind_2021['Amount($)'], bins=20)\n",
    "plt.title('Distribution of Amount')\n",
    "plt.xlabel('Amount($)')\n",
    "plt.ylabel('Frequency')\n",
    "plt.show()"
   ]
  },
  {
   "cell_type": "code",
   "execution_count": null,
   "id": "c6808979",
   "metadata": {},
   "outputs": [],
   "source": [
    "plt.boxplot(ind_2021['Amount($)'])\n",
    "plt.title('Distribution of Amount')\n",
    "plt.xlabel('Amount($)')\n",
    "plt.show()"
   ]
  },
  {
   "cell_type": "code",
   "execution_count": null,
   "id": "6100468a",
   "metadata": {},
   "outputs": [],
   "source": [
    "ind_2021['Amount($)'].replace(0, np.nan, inplace=True)"
   ]
  },
  {
   "cell_type": "code",
   "execution_count": null,
   "id": "040f4cda",
   "metadata": {},
   "outputs": [],
   "source": [
    "# Fill missing values with median value\n",
    "ind_2021['Amount($)'].fillna(ind_2021['Amount($)'].mean(), inplace=True)\n",
    "\n",
    "ind_2021['Amount($)'] = ind_2021['Amount($)'].astype(int)"
   ]
  },
  {
   "cell_type": "code",
   "execution_count": null,
   "id": "710bd5e6",
   "metadata": {},
   "outputs": [],
   "source": [
    "ind_2021.isna().sum()"
   ]
  },
  {
   "cell_type": "code",
   "execution_count": null,
   "id": "c132ddc1",
   "metadata": {},
   "outputs": [],
   "source": [
    "ind_2021.head()"
   ]
  },
  {
   "cell_type": "code",
   "execution_count": null,
   "id": "677168a4",
   "metadata": {},
   "outputs": [],
   "source": [
    "# # Create a list of substrings to search for in the Sector column\n",
    "tech = ['Mobile','Technology', 'Internet', 'Software', 'Hardware','SaaS','Blockchain','Apps','Information Services','SEM',\n",
    "        'Artificial Intelligence','CleanTech','Aerospace','Robotics','Ai','PaaS','Medtech','Agritech','HR tech',\n",
    "       'Tech','FoodTech','Safety tech','IoT','Legal tech','Infratech','Netwokring platform','Telecommunication','Cloud','Aero',\n",
    "       'Virtual','Content','Photonics','app','Proptech','Deeptech','AR','VR','Agri tech','-Tech','AgriTech','IT','Network',\n",
    "        'Data','HrTech','Foodtech','Spacetech','E-mobility','Automation','Logitech','HRTech','Drone','MLOps','Innovation',\n",
    "       'BioTechnology','TaaS','network','equipment','SpaceTech','CRM','MarTech','Nanotechnology','Femtech','startup','AI']\n",
    "fin = ['Lending','Finance','Insurance', 'Payments','Financial Services','Credit','Credit Cards','Mutual Funds',\n",
    "       'Banking','Escrow','Venture','financial','Taxation','Capital','firm','Equity']\n",
    "fint = ['NFT','Virtual Banking','FinTech','Fintech','Cryptocurrency','Crypto','Insurtech','InsurTech']\n",
    "health = ['Health', 'Medical','Pharmaceutical','Health Diagnotics','Health Care','Hospital','Biotechnology','Biopharma',\n",
    "         'Hygiene management','HealthTech','Healthcare','HealthCare','laboratory','Biotech','Healthtech','HeathTech',\n",
    "         'Helathcare','Veterinary']\n",
    "mkt = ['Brand Marketing','Marketing','Event Promotion','Market']\n",
    "agric = ['Farming','Agriculture','Nutrition','Hauz Khas','Fishery']\n",
    "con = ['Food','Food and Beverages','Dairy','Beverages','Beer','FMCG']\n",
    "econ = ['B2B','Shopping','E-Commerce','Trading Platform','E-commerce','E-marketplace','marketplace','e-commerce','Ecommerce',\n",
    "        'E-market','Commerce','Trading platform']\n",
    "cons = ['Wholesale','Consumer','Shoes','Packaging','Retail','Consulting','Food Delivery']\n",
    "edu = ['E-Learning','EdTech','Education','Communities','Edtech','Preschool','School']\n",
    "welln = ['Lifestyle','Beauty','Wellness','Cosmetics','Yoga','Skincare','D2C','Fitness','Lifestyle','Training']\n",
    "real_est=['Real Estate','Home Decor','Accomodation','Interior design','Home Design','Home interior','Co-living',\n",
    "          'Construction']\n",
    "log = ['Logistics','Rental','Tourism','Travel','TravelTech','Transport','Transportation','Aviation','Mobility']\n",
    "\n",
    "auto = ['Automotive','Electric vehicle','Industrial Automation','Vehicles','Automotive tech','Automobile','Tyre','car','Car',\n",
    "       'Vehicle','Mechanical']\n",
    "manu = ['Manufacturing']\n",
    "ener = ['Renewable Energy','Solar','Energy','Energy Storage','Battery','Oil and Gas','Renewable','EV','Electricity',\n",
    "       'purification','Renewables']\n",
    "medi = ['Entertainment','Media','News','Video','Digital Media','FM','Publication','OTT','Social Network','Music',\n",
    "        'Digital platform','Podcast','publishing','Blogging']\n",
    "Game = ['Gaming','Games','Sports']\n",
    "\n",
    "style = ['Fashion','Jewelry','Eyeglasses','Eye Wear','Apparel','Dating','Celebrity','Eyewear','D2C Fashion','Matrimony',\n",
    "         'Textiles','D2C jewellery','Foootwear','Arts']\n",
    "hos =['Hospitality','Hotel','Leisure']\n",
    "\n",
    "\n",
    "ind_2021['Sector_clean'] = 'Other'\n",
    "ind_2021.loc[ind_2021['Sector'].str.contains('|'.join(tech)), 'Sector_clean'] = 'Technology'\n",
    "ind_2021.loc[ind_2021['Sector'].str.contains('|'.join(fin)), 'Sector_clean'] = 'Finance'\n",
    "ind_2021.loc[ind_2021['Sector'].str.contains('|'.join(health)), 'Sector_clean'] = 'Healthcare'\n",
    "ind_2021.loc[ind_2021['Sector'].str.contains('|'.join(mkt)), 'Sector_clean'] = 'Marketing'\n",
    "ind_2021.loc[ind_2021['Sector'].str.contains('|'.join(agric)), 'Sector_clean'] = 'Agriculture'\n",
    "ind_2021.loc[ind_2021['Sector'].str.contains('|'.join(econ)), 'Sector_clean'] = 'E-Commerce'\n",
    "ind_2021.loc[ind_2021['Sector'].str.contains('|'.join(edu)), 'Sector_clean'] = 'Education'\n",
    "ind_2021.loc[ind_2021['Sector'].str.contains('|'.join(welln)), 'Sector_clean'] = 'Wellness/Beauty'\n",
    "ind_2021.loc[ind_2021['Sector'].str.contains('|'.join(real_est)), 'Sector_clean'] = 'Real Estate'\n",
    "ind_2021.loc[ind_2021['Sector'].str.contains('|'.join(log)), 'Sector_clean'] = 'Logistics'\n",
    "\n",
    "ind_2021.loc[ind_2021['Sector'].str.contains('|'.join(auto)), 'Sector_clean'] = 'Automotive'\n",
    "ind_2021.loc[ind_2021['Sector'].str.contains('|'.join(manu)), 'Sector_clean'] = 'Manufacture'\n",
    "ind_2021.loc[ind_2021['Sector'].str.contains('|'.join(ener)), 'Sector_clean'] = 'Energy'\n",
    "ind_2021.loc[ind_2021['Sector'].str.contains('|'.join(medi)), 'Sector_clean'] = 'Media/Entertainment'\n",
    "ind_2021.loc[ind_2021['Sector'].str.contains('|'.join(hos)), 'Sector_clean'] = 'Hospitality'\n",
    "ind_2021.loc[ind_2021['Sector'].str.contains('|'.join(style)), 'Sector_clean'] = 'Lifestyle'\n",
    "ind_2021.loc[ind_2021['Sector'].str.contains('|'.join(cons)), 'Sector_clean'] = 'Consumer Services'\n",
    "ind_2021.loc[ind_2021['Sector'].str.contains('|'.join(game)), 'Sector_clean'] = 'Gaming'\n",
    "ind_2021.loc[ind_2021['Sector'].str.contains('|'.join(fint)), 'Sector_clean'] = 'FinTech'\n",
    "ind_2021.loc[ind_2021['Sector'].str.contains('|'.join(con)), 'Sector_clean'] = 'Consumables'"
   ]
  },
  {
   "cell_type": "code",
   "execution_count": null,
   "id": "3ecf2a9c",
   "metadata": {},
   "outputs": [],
   "source": [
    "# replace the value in row  of Column1 with NaN & fill/replace with mode\n",
    "\n",
    "ind_2021['HeadQuarter'] = ind_2021['HeadQuarter'].replace('Food & Beverages', np.nan)\n",
    "ind_2021['HeadQuarter'] = ind_2021['HeadQuarter'].replace('Pharmaceuticals\\t#REF!', np.nan)\n",
    "ind_2021['HeadQuarter'] = ind_2021['HeadQuarter'].replace('Online Media#REF!', np.nan)\n",
    "\n",
    "ind_2021['HeadQuarter'] = ind_2021['HeadQuarter'].replace('Gurugram\\t#REF!', 'Gurugram')\n",
    "ind_2021['HeadQuarter'] = ind_2021['HeadQuarter'].replace('Information Technology & Services', 'Manchester')\n",
    "ind_2021['HeadQuarter'] = ind_2021['HeadQuarter'].replace('Mountain View, CA', 'California')\n",
    "ind_2021['HeadQuarter'] = ind_2021['HeadQuarter'].replace('Faridabad, Haryana', 'Haryana')\n",
    "ind_2021['HeadQuarter'] = ind_2021['HeadQuarter'].replace('Small Towns, Andhra Pradesh', 'Andhra Pradesh')\n",
    "\n",
    "\n",
    "ind_2021['HeadQuarter'] = ind_2021['HeadQuarter'].fillna(ind_2021['HeadQuarter'].mode()[0])\n"
   ]
  },
  {
   "cell_type": "code",
   "execution_count": null,
   "id": "9013e999",
   "metadata": {},
   "outputs": [],
   "source": [
    "# filling the gaps with appropriate naming convention\n",
    "\n",
    "ind_2021['Sector'] = ind_2021['Sector'].replace('Primary Business is Development and Manufacturing of Novel Healthcare Products in Effervescent forms using imported propriety ingredients.', 'Healthcare')\n",
    "ind_2021['Sector'] = ind_2021['Sector'].replace('Primary Business is Development and Manufacturing of Novel Healthcare Products in Effervescent forms using imported propriety ingredients.', 'Healthcare')   \n",
    "ind_2021['Sector'] = ind_2021['Sector'].replace('MoEVing is Indias only Electric Mobility focused Technology Platform with a vision to accelerate EV adoption in India.', 'Energy')\n"
   ]
  },
  {
   "cell_type": "code",
   "execution_count": null,
   "id": "c1bd58b5",
   "metadata": {},
   "outputs": [],
   "source": [
    "ind_2021.head()"
   ]
  },
  {
   "cell_type": "code",
   "execution_count": null,
   "id": "3e19354e",
   "metadata": {},
   "outputs": [],
   "source": [
    "ind_2021.isna().sum()"
   ]
  },
  {
   "cell_type": "code",
   "execution_count": null,
   "id": "865c6f84",
   "metadata": {},
   "outputs": [],
   "source": [
    "ind_2021.drop(ind_2021.columns[-8], axis=1,inplace=True)"
   ]
  },
  {
   "cell_type": "code",
   "execution_count": null,
   "id": "d412a159",
   "metadata": {},
   "outputs": [],
   "source": [
    "ind_2021= ind_2021.rename(columns={'Sector_clean': 'Sector'})"
   ]
  },
  {
   "cell_type": "code",
   "execution_count": null,
   "id": "2522a048",
   "metadata": {},
   "outputs": [],
   "source": [
    "ind_2021['Founded'] = ind_2021['Founded'].astype(int)"
   ]
  },
  {
   "cell_type": "code",
   "execution_count": null,
   "id": "514db5e3",
   "metadata": {},
   "outputs": [],
   "source": [
    "ind_2021.head()"
   ]
  },
  {
   "cell_type": "code",
   "execution_count": null,
   "id": "54f703be",
   "metadata": {},
   "outputs": [],
   "source": [
    "ind_2021.set_index('Date',inplace=True)"
   ]
  },
  {
   "cell_type": "markdown",
   "id": "3e7e77d6",
   "metadata": {},
   "source": [
    "## Ploting visuals to check the shape of the dataframe"
   ]
  },
  {
   "cell_type": "code",
   "execution_count": null,
   "id": "c1260107",
   "metadata": {},
   "outputs": [],
   "source": [
    "if ind_2021.empty:\n",
    "    print(\"No data found for the year 2021\")\n",
    "else:\n",
    "    # Calculate the total funding by sector\n",
    "    total_funding_by_sector = ind_2021.groupby('Sector')['Amount($)'].sum().reset_index()\n",
    "\n",
    "    top_10_sectors = total_funding_by_sector.sort_values(by='Amount($)', ascending=False).head(10)\n",
    "\n",
    "    ax = sns.barplot(data=top_10_sectors, x='Sector', y='Amount($)')\n",
    "    ax.set_xticklabels(ax.get_xticklabels(), rotation=90)\n",
    "    plt.show()\n"
   ]
  },
  {
   "cell_type": "code",
   "execution_count": null,
   "id": "a9c08199",
   "metadata": {},
   "outputs": [],
   "source": [
    "# sort the dataframe by amount in descending order and select the top 10 investors\n",
    "top_investors = ind_2021.sort_values(by='Amount($)', ascending=False).head(10)\n",
    "\n",
    "# create a horizontal bar chart\n",
    "fig, ax = plt.subplots(figsize=(10, 6))\n",
    "ax.barh(top_investors['Investor'], top_investors['Amount($)'], color='purple')\n",
    "\n",
    "ax.set_xlabel('Amount($)', fontsize=12)\n",
    "\n",
    "ax.set_ylabel('Investor', fontsize=12)\n",
    "\n",
    "ax.set_title('Top 10 Investors by Amount', fontsize=14)\n",
    "\n",
    "plt.show()"
   ]
  },
  {
   "cell_type": "markdown",
   "id": "5760f363",
   "metadata": {},
   "source": [
    "## filling missing values in 2018 with merged data, checking the correlation,converting amount col to float"
   ]
  },
  {
   "cell_type": "code",
   "execution_count": null,
   "id": "e6d8dd2d",
   "metadata": {},
   "outputs": [],
   "source": [
    "# Compute the correlation matrix\n",
    "combined_ind = pd.concat([ind_2019, ind_2020, ind_2021], axis=0)\n",
    "\n",
    "correlation_matrix = combined_ind.corr()\n",
    "\n",
    "print(correlation_matrix)"
   ]
  },
  {
   "cell_type": "code",
   "execution_count": null,
   "id": "15f599d1",
   "metadata": {},
   "outputs": [],
   "source": [
    "ind_2018.isna().sum()"
   ]
  },
  {
   "cell_type": "code",
   "execution_count": null,
   "id": "7723f665",
   "metadata": {},
   "outputs": [],
   "source": [
    "plt.hist(combined_ind['Founded'], bins=50)\n",
    "plt.title('Distribution of Year')\n",
    "plt.xlabel('Founded')\n",
    "plt.ylabel('Frequency')\n",
    "plt.show()"
   ]
  },
  {
   "cell_type": "code",
   "execution_count": null,
   "id": "63ab7059",
   "metadata": {},
   "outputs": [],
   "source": [
    "# Calculate the median of the column\n",
    "median_value = combined_ind['Founded'].median()"
   ]
  },
  {
   "cell_type": "code",
   "execution_count": null,
   "id": "19f546fc",
   "metadata": {},
   "outputs": [],
   "source": [
    "ind_2018['Founded'].fillna(median_value, inplace=True)"
   ]
  },
  {
   "cell_type": "code",
   "execution_count": null,
   "id": "afac236f",
   "metadata": {},
   "outputs": [],
   "source": [
    "ind_2018.isna().sum()"
   ]
  },
  {
   "cell_type": "code",
   "execution_count": null,
   "id": "a514f5c1",
   "metadata": {},
   "outputs": [],
   "source": [
    "ind_2018['Founded'] = ind_2018['Founded'].astype(int)"
   ]
  },
  {
   "cell_type": "code",
   "execution_count": null,
   "id": "2ad0c4c6",
   "metadata": {},
   "outputs": [],
   "source": [
    "ind_2018.head()"
   ]
  },
  {
   "cell_type": "code",
   "execution_count": null,
   "id": "7b05d37e",
   "metadata": {},
   "outputs": [],
   "source": [
    "ind_2018[\"Amount($)\"] = ind_2018[\"Amount($)\"].astype(float)\n",
    "\n",
    "ind_2019[\"Amount($)\"] = ind_2019[\"Amount($)\"].astype(float)\n",
    "\n",
    "ind_2020[\"Amount($)\"] = ind_2020[\"Amount($)\"].astype(float)\n",
    "\n",
    "ind_2021[\"Amount($)\"] = ind_2021[\"Amount($)\"].astype(float)"
   ]
  },
  {
   "cell_type": "code",
   "execution_count": null,
   "id": "9a345648",
   "metadata": {},
   "outputs": [],
   "source": [
    "ind_2021.head(50)"
   ]
  },
  {
   "cell_type": "code",
   "execution_count": null,
   "id": "d197bf00",
   "metadata": {},
   "outputs": [],
   "source": [
    "ind_2020.isna().sum()"
   ]
  },
  {
   "cell_type": "code",
   "execution_count": null,
   "id": "937af380",
   "metadata": {},
   "outputs": [],
   "source": [
    "# save dataframe to a CSV file\n",
    "# ind_2018.to_csv('clean-startup-2018.csv',index_label='Date')\n",
    "# ind_2019.to_csv('clean-startup-2019.csv',index_label='Date')\n",
    "# ind_2020.to_csv('clean-startup-2020.csv',index_label='Date')\n",
    "# ind_2021.to_csv('clean-startup-2021.csv',index_label='Date')"
   ]
  },
  {
   "cell_type": "code",
   "execution_count": null,
   "id": "e8f8733a",
   "metadata": {},
   "outputs": [],
   "source": []
  }
 ],
 "metadata": {
  "kernelspec": {
   "display_name": "Python 3 (ipykernel)",
   "language": "python",
   "name": "python3"
  },
  "language_info": {
   "codemirror_mode": {
    "name": "ipython",
    "version": 3
   },
   "file_extension": ".py",
   "mimetype": "text/x-python",
   "name": "python",
   "nbconvert_exporter": "python",
   "pygments_lexer": "ipython3",
   "version": "3.9.13"
  }
 },
 "nbformat": 4,
 "nbformat_minor": 5
}
