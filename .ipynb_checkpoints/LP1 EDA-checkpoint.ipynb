{
 "cells": [
  {
   "cell_type": "code",
   "execution_count": null,
   "id": "a56020bb",
   "metadata": {},
   "outputs": [],
   "source": [
    "import pandas as pd\n",
    "import numpy as np\n",
    "import matplotlib.pyplot as plt\n",
    "import seaborn as sns\n",
    "from scipy.stats import mode\n",
    "from sklearn.impute import SimpleImputer\n"
   ]
  },
  {
   "cell_type": "code",
   "execution_count": null,
   "id": "f4e3af5a",
   "metadata": {},
   "outputs": [],
   "source": [
    "# Load the data for each year\n",
    "df_2018 = pd.read_csv('../Edinburgh-Indian-Start-up-Project\\Clean_Data\\clean-startup-2018.csv')\n",
    "df_2019 = pd.read_csv('../Edinburgh-Indian-Start-up-Project\\Clean_Data\\clean-startup-2019.csv')\n",
    "df_2020 = pd.read_csv('../Edinburgh-Indian-Start-up-Project\\Clean_Data\\clean-startup-2020.csv')\n",
    "df_2021 = pd.read_csv('../Edinburgh-Indian-Start-up-Project\\Clean_Data\\clean-startup-2021.csv')"
   ]
  },
  {
   "cell_type": "code",
   "execution_count": null,
   "id": "aee5981e",
   "metadata": {},
   "outputs": [],
   "source": [
    "# Concatenate all years into a single dataframe\n",
    "df = pd.concat([df_2018, df_2019, df_2020, df_2021])"
   ]
  },
  {
   "cell_type": "code",
   "execution_count": null,
   "id": "dd352d5b",
   "metadata": {},
   "outputs": [],
   "source": [
    "df"
   ]
  },
  {
   "cell_type": "code",
   "execution_count": null,
   "id": "65bd8609",
   "metadata": {},
   "outputs": [],
   "source": [
    "#converting Amount column to datatype float\n",
    "df[\"Amount($)\"].astype(\"float\")"
   ]
  },
  {
   "cell_type": "code",
   "execution_count": null,
   "id": "04f6f8ff",
   "metadata": {},
   "outputs": [],
   "source": [
    "#describe the data \n",
    "df.describe()\n"
   ]
  },
  {
   "cell_type": "code",
   "execution_count": null,
   "id": "60e84ab0",
   "metadata": {},
   "outputs": [],
   "source": [
    "df.info()"
   ]
  },
  {
   "cell_type": "code",
   "execution_count": null,
   "id": "f7020e59",
   "metadata": {},
   "outputs": [],
   "source": [
    "\n",
    "# Check for missing values\n",
    "print(df.isnull().sum())"
   ]
  },
  {
   "cell_type": "code",
   "execution_count": null,
   "id": "3dcb852f",
   "metadata": {},
   "outputs": [],
   "source": [
    "#filling missing categorical data on founders using imputer methord\n",
    "\n",
    "# Create an instance of SimpleImputer with the 'most_frequent' strategy\n",
    "imputer = SimpleImputer(strategy='most_frequent')\n",
    "\n",
    "# Fit the imputer on founders column\n",
    "imputer.fit(df[['Founders']])\n",
    "\n",
    "# Transform the data \n",
    "df['Founders'] = imputer.transform(df[['Founders']])\n"
   ]
  },
  {
   "cell_type": "code",
   "execution_count": null,
   "id": "a56d8219",
   "metadata": {},
   "outputs": [],
   "source": [
    "#filling missing categorical data on Investor using imputer methord\n",
    "\n",
    "# Create an instance of SimpleImputer with the 'most_frequent' strategy\n",
    "imputer = SimpleImputer(strategy='most_frequent')\n",
    "\n",
    "# Fit the imputer on Investor column\n",
    "imputer.fit(df[['Investor']])\n",
    "\n",
    "# Transform the data \n",
    "df['Investor'] = imputer.transform(df[['Investor']])"
   ]
  },
  {
   "cell_type": "code",
   "execution_count": null,
   "id": "70af3017",
   "metadata": {},
   "outputs": [],
   "source": [
    "print(df.isnull().sum())"
   ]
  },
  {
   "cell_type": "markdown",
   "id": "91ec260b",
   "metadata": {},
   "source": [
    "# Univariate analysis\n",
    "###  It only analyzes one variable, which is the 'Amount($)' column"
   ]
  },
  {
   "cell_type": "code",
   "execution_count": null,
   "id": "677f13df",
   "metadata": {},
   "outputs": [],
   "source": [
    "# Plot the distribution of funding amounts\n",
    "df = df.reset_index(drop=True)\n",
    "sns.displot(data=df, x='Amount($)', bins=50)\n",
    "plt.title('Distribution of Funding Amounts')\n",
    "plt.show()\n"
   ]
  },
  {
   "cell_type": "markdown",
   "id": "5562699d",
   "metadata": {},
   "source": [
    " The histogram is divided into 50 bins, which gives an idea of how the funding amounts are distributed across different ranges"
   ]
  },
  {
   "cell_type": "markdown",
   "id": "cc714b98",
   "metadata": {},
   "source": [
    " # Univariate analysis \n",
    " ### As it only analyzes the distribution of startups across different sectors."
   ]
  },
  {
   "cell_type": "code",
   "execution_count": null,
   "id": "b313a52b",
   "metadata": {},
   "outputs": [],
   "source": [
    "# Get the value counts for each sector and sort them in descending order\n",
    "sector_counts = df['Sector'].value_counts().sort_values(ascending=False)\n",
    "\n",
    "# Plot the countplot with sorted bars\n",
    "sns.countplot(data=df, y='Sector', order=sector_counts.index)\n",
    "plt.title('Number of Startups by Sector')\n",
    "plt.show()\n"
   ]
  },
  {
   "cell_type": "markdown",
   "id": "2e429874",
   "metadata": {},
   "source": [
    "This visualization helps to identify which sectors have the highest number of startups and compare their relative popularity."
   ]
  },
  {
   "cell_type": "markdown",
   "id": "568c0bc2",
   "metadata": {},
   "source": [
    "# Univariate analysis of\n",
    "### Funding amount by sector"
   ]
  },
  {
   "cell_type": "code",
   "execution_count": null,
   "id": "640d7a1e",
   "metadata": {},
   "outputs": [],
   "source": [
    "# Sort the sectors by funding amount in descending order\n",
    "sector_order = df.groupby('Sector')['Amount($)'].sum().sort_values(ascending=False).index\n",
    "\n",
    "# Plot the funding amounts by sector in descending order\n",
    "sns.barplot(data=df, y='Sector', x='Amount($)', estimator=np.sum, ci=None, order=sector_order)\n",
    "plt.title('Funding Amounts by Sector')\n",
    "plt.show()"
   ]
  },
  {
   "cell_type": "markdown",
   "id": "e1ead7af",
   "metadata": {},
   "source": [
    "The above chart  shows the sector with the highest total funding amount is Automotive, followed by Technology and Logistics.\n",
    "    Consumables and Education sectors also received significant funding amounts, while other sectors received comparatively lower funding amounts."
   ]
  },
  {
   "cell_type": "markdown",
   "id": "a1eb43d5",
   "metadata": {},
   "source": [
    " # Univariate analysis.\n",
    " ### It is analyzing the frequency distribution of startups by funding stage."
   ]
  },
  {
   "cell_type": "code",
   "execution_count": null,
   "id": "3970eb9a",
   "metadata": {},
   "outputs": [],
   "source": [
    "plt.figure(figsize=(8, 6))\n",
    "sns.countplot(data=df, y='Stage', order=df['Stage'].value_counts().index[:20])\n",
    "plt.title('Number of Startups by Funding Stage (Top 20)')\n",
    "plt.xlabel('Number of Startups')\n",
    "plt.ylabel('Funding Stage')\n",
    "plt.show()\n"
   ]
  },
  {
   "cell_type": "markdown",
   "id": "48939d0b",
   "metadata": {},
   "source": [
    "In the above chart The finding is that the majority of startups in the dataset are in the Seed and Series A funding stages, with a sharp decline in the number of startups in later funding stages such as Series E and beyond."
   ]
  },
  {
   "cell_type": "markdown",
   "id": "28ed8b3c",
   "metadata": {},
   "source": [
    "# Univariate analysis.\n",
    " ### showing the total funding amount for each funding stage. The y-axis represents the funding stage and the x-axis represents the total funding amount."
   ]
  },
  {
   "cell_type": "code",
   "execution_count": null,
   "id": "67cf06bf",
   "metadata": {},
   "outputs": [],
   "source": [
    "plt.figure(figsize=(8, 6))\n",
    "sns.barplot(data=df, y='Stage', x='Amount($)', estimator=np.sum, ci=None, order=df.groupby('Stage')['Amount($)'].sum().sort_values(ascending=False).index[:20])\n",
    "plt.title('Funding Amounts by Funding Stage')\n",
    "plt.xlabel('Amount ($)')\n",
    "plt.ylabel('Funding Stage')\n",
    "plt.show()\n",
    "\n"
   ]
  },
  {
   "cell_type": "markdown",
   "id": "d029b192",
   "metadata": {},
   "source": [
    "\n",
    "The findings from the above chart suggest that Seed Funding is the most common funding stage for Indian startups, followed by Series A and Series B. The total funding amount gradually increases as the funding stage advances from Seed to Series F"
   ]
  },
  {
   "cell_type": "markdown",
   "id": "985a8ad1",
   "metadata": {},
   "source": [
    " # Univariate  analysis\n",
    " ### As it is analyzing the number of startups in each location without considering any other variable.\n"
   ]
  },
  {
   "cell_type": "code",
   "execution_count": null,
   "id": "53972b44",
   "metadata": {},
   "outputs": [],
   "source": [
    "plt.figure(figsize=(8, 10))\n",
    "sns.countplot(data=df, y='HeadQuarter', order=df['HeadQuarter'].value_counts().iloc[:20].index)\n",
    "plt.title('Number of Startups by Location (Top 20)')\n",
    "plt.xlabel('Number of Startups')\n",
    "plt.ylabel('Location')\n",
    "plt.show()\n",
    "\n"
   ]
  },
  {
   "cell_type": "markdown",
   "id": "e6baedff",
   "metadata": {},
   "source": [
    "Bangalore is the top location for startups with more than 3000 startups in the dataset.\n",
    "Mumbai and Delhi are the next two most popular locations with more than 1500 startups each.\n",
    "Other popular locations for startups include Hyderabad, Chennai, Pune, and Gurgaon."
   ]
  },
  {
   "cell_type": "markdown",
   "id": "4c131c11",
   "metadata": {},
   "source": [
    "# Univariate analysis of\n",
    "### funding by top 20 headquarter  locations"
   ]
  },
  {
   "cell_type": "code",
   "execution_count": null,
   "id": "5162db78",
   "metadata": {},
   "outputs": [],
   "source": [
    "funding_amount = df['HeadQuarter']\n",
    "print(funding_amount)\n"
   ]
  },
  {
   "cell_type": "code",
   "execution_count": null,
   "id": "38a58bd8",
   "metadata": {
    "scrolled": false
   },
   "outputs": [],
   "source": [
    "distinct_stages = df['HeadQuarter'].unique()\n",
    "print(distinct_stages)\n"
   ]
  },
  {
   "cell_type": "code",
   "execution_count": null,
   "id": "7eb056be",
   "metadata": {},
   "outputs": [],
   "source": [
    "top20_locations = df.groupby('HeadQuarter')['Amount($)'].sum().sort_values(ascending=False).head(20).index.tolist()\n",
    "\n",
    "sns.barplot(data=df, y='HeadQuarter', x='Amount($)', estimator=np.sum, ci=None, order=top20_locations)\n",
    "plt.title('Funding Amounts by Location (Top 20)')\n",
    "plt.show()\n",
    "\n",
    "\n"
   ]
  },
  {
   "cell_type": "markdown",
   "id": "37b6578d",
   "metadata": {},
   "source": [
    "There is a significant difference between the total funding received by the top location and the other locations on the above chart indicating that certain locations may receive more funding than others. The bar chart provides a quick and easy way to visually compare the total funding received by the top 20 headquarter locations."
   ]
  },
  {
   "cell_type": "code",
   "execution_count": null,
   "id": "9f0b00d0",
   "metadata": {
    "scrolled": true
   },
   "outputs": [],
   "source": [
    "distinct_stages = df['Stage'].unique()\n",
    "print(distinct_stages)"
   ]
  },
  {
   "cell_type": "markdown",
   "id": "47b96334",
   "metadata": {},
   "source": [
    "# Univariate analysis of\n",
    "### Funding amount by funding stage\n",
    " "
   ]
  },
  {
   "cell_type": "code",
   "execution_count": null,
   "id": "89b9388f",
   "metadata": {},
   "outputs": [],
   "source": [
    "plt.figure(figsize=(8, 6))\n",
    "sns.barplot(data=df, y='Stage', x='Amount($)', estimator=np.sum, ci=None, order=df.groupby('Stage')['Amount($)'].sum().sort_values(ascending=False).index[:20])\n",
    "plt.title('Funding Amounts by Funding Stage')\n",
    "plt.xlabel('Amount ($)')\n",
    "plt.ylabel('Funding Stage')\n",
    "plt.show()"
   ]
  },
  {
   "cell_type": "markdown",
   "id": "130ddb58",
   "metadata": {},
   "source": [
    "In the above chart the funding stage that received the most funding is \"Seed\". The funding amounts decrease as the stage of development advances, with \"Series A\" receiving the second highest amount of funding, followed by \"Series B\". The funding amounts for each stage after \"Series B\" continue to decrease"
   ]
  },
  {
   "cell_type": "markdown",
   "id": "b524c011",
   "metadata": {},
   "source": [
    "# Bivariate Analysis \n",
    "### It plots the correlation between two variables - Stage of Development and Funding Amount."
   ]
  },
  {
   "cell_type": "code",
   "execution_count": null,
   "id": "22f40754",
   "metadata": {},
   "outputs": [],
   "source": [
    "# Create scatter plot\n",
    "plt.scatter('Stage', 'Amount($)')\n",
    "\n",
    "# Set axis labels and title\n",
    "plt.xlabel('Stage of Development')\n",
    "plt.ylabel('Funding Amount (USD)')\n",
    "plt.title('Correlation Between Stage of Development and Funding Amount')\n",
    "\n",
    "# Show the plot\n",
    "plt.show()\n"
   ]
  },
  {
   "cell_type": "markdown",
   "id": "1f2e8a63",
   "metadata": {},
   "source": [
    " # Bivariate Analysis\n",
    "### it is exploring the relationship between two variables: Stage of Development and Funding Amount, while also considering the third variable of Year through color-coding."
   ]
  },
  {
   "cell_type": "code",
   "execution_count": null,
   "id": "103b1251",
   "metadata": {},
   "outputs": [],
   "source": [
    "# Filter top 10 stages by funding amount\n",
    "top10_stages = df.groupby('Stage')['Amount($)'].sum().sort_values(ascending=False).head(10).index.tolist()\n",
    "df_filtered = df[df['Stage'].isin(top10_stages)]\n",
    "\n",
    "# Create scatter plot\n",
    "plt.figure(figsize=(10,8))\n",
    "sns.scatterplot(data=df_filtered, x='Stage', y='Amount($)', hue='Year')\n",
    "plt.title('Correlation Between Stage of Development and Funding Amount for Indian Startups')\n",
    "plt.xlabel('Stage of Development')\n",
    "plt.ylabel('Funding Amount')\n",
    "plt.show()"
   ]
  },
  {
   "cell_type": "markdown",
   "id": "63e06b8b",
   "metadata": {},
   "source": [
    "The scatter plot above shows that the funding amount generally increases as the stage of development progresses, with later stages such as Growth and Expansion receiving the highest amount of funding. Additionally, there appears to be an increasing trend in funding amount over the years, with higher amounts being received in more recent years."
   ]
  },
  {
   "cell_type": "markdown",
   "id": "eca2b31d",
   "metadata": {},
   "source": [
    "# Univariate Analysis of\n",
    "### Total funding by sector"
   ]
  },
  {
   "cell_type": "code",
   "execution_count": null,
   "id": "50f24f21",
   "metadata": {},
   "outputs": [],
   "source": [
    "\n",
    "# group the data by sector and calculate the sum of funding\n",
    "funding_by_sector = df.groupby('Sector')['Amount($)'].sum().reset_index()\n",
    "\n",
    "# sort the data by total funding in descending order\n",
    "funding_by_sector = funding_by_sector.sort_values(by='Amount($)', ascending=False)\n",
    "\n",
    "# plot the bar chart\n",
    "plt.figure(figsize=(12, 6))\n",
    "plt.bar(funding_by_sector['Sector'], funding_by_sector['Amount($)'])\n",
    "plt.xticks(rotation=45)\n",
    "plt.xlabel('Sector')\n",
    "plt.ylabel('Total Funding (in millions)')\n",
    "plt.title('Total Funding by Sector')\n",
    "plt.show()\n",
    "\n",
    "\n"
   ]
  },
  {
   "cell_type": "markdown",
   "id": "44499d54",
   "metadata": {},
   "source": [
    "On the above plot we can see that Automotive sector receives the highest funding whereas Marketing sector receives the least funding"
   ]
  },
  {
   "cell_type": "markdown",
   "id": "97ea56d5",
   "metadata": {},
   "source": [
    "# Univariate analysis of\n",
    "### Pattern in location of top 10 companys headquarters and the amount of funding they receive"
   ]
  },
  {
   "cell_type": "code",
   "execution_count": null,
   "id": "c89c9c1b",
   "metadata": {},
   "outputs": [],
   "source": [
    "\n",
    "# group the data by headquarter location and calculate the mean funding\n",
    "funding_by_location = df.groupby('HeadQuarter')['Amount($)'].mean().reset_index()\n",
    "\n",
    "# sort the data by mean funding in descending order\n",
    "funding_by_location = funding_by_location.sort_values(by='Amount($)', ascending=False)\n",
    "# select the top 10 locations\n",
    "top_10_locations = funding_by_location[:10]\n",
    "# plot the bar chart\n",
    "plt.figure(figsize=(12, 6))\n",
    "plt.bar(top_10_locations['HeadQuarter'], top_10_locations['Amount($)'])\n",
    "plt.xticks(rotation=90)\n",
    "plt.xlabel('Headquarter Location')\n",
    "plt.ylabel('Mean Funding (in millions)')\n",
    "plt.title('patterns in the location of top 10 companys headquarters and the amount of funding they receive')\n",
    "plt.show()\n"
   ]
  },
  {
   "cell_type": "markdown",
   "id": "8c09f4ea",
   "metadata": {},
   "source": [
    "From the above chart, the analysis of funding by headquarter location, we can see that some locations such as Faridabad, Shangai,China, Kalpakkam, and Beijing have received significantly higher amounts of funding compared to other locations. This could indicate a pattern where companies based in major business centers or startup hubs tend to receive more funding compared to those based in other locations"
   ]
  },
  {
   "cell_type": "markdown",
   "id": "0e2ac1bc",
   "metadata": {},
   "source": [
    "# Multivariate analysis\n",
    "### To visualize the relationship between founding year, location (headquarter), and sector"
   ]
  },
  {
   "cell_type": "code",
   "execution_count": null,
   "id": "940ab2ce",
   "metadata": {},
   "outputs": [],
   "source": [
    "\n",
    "# Create a pivot table with founding year, location, and sector as indices\n",
    "pivot = df.pivot_table(values='Amount($)', index=['Year', 'HeadQuarter'], columns='Sector', aggfunc='sum')\n",
    "\n",
    "# Create the heatmap\n",
    "plt.figure(figsize=(12,8))\n",
    "sns.heatmap(pivot, cmap='Blue')\n",
    "plt.title('Relationship between Founding Year, Location, and Sector')\n",
    "plt.xlabel('Sector')\n",
    "plt.ylabel('Founding Year - Location')\n",
    "plt.show()\n"
   ]
  },
  {
   "cell_type": "markdown",
   "id": "fd6720e8",
   "metadata": {},
   "source": [
    " On the above heatmap the color scale indicates the magnitude of the funding amount, with darker shades representing higher values.\n",
    "\n",
    "Some possible findings from this heatmap are:\n",
    "\n",
    "    The highest funding amounts are concentrated in a few sectors, such as Technology, Healthcare, and E-commerce, and are mainly located in a few cities like Bangalore, Mumbai, and Delhi.\n",
    "    Funding amounts are generally increasing over time, with the most recent years (2020-2022) showing the highest levels of funding across most sectors and locations.\n",
    "    There are some notable regional variations in funding amounts, with certain cities or regions showing higher levels of funding in specific sectors. For example, Delhi and Gurgaon have higher funding amounts in the Real Estate sector, while Bangalore and Mumbai have higher funding amounts in the Technology sector."
   ]
  },
  {
   "cell_type": "markdown",
   "id": "48db9484",
   "metadata": {},
   "source": [
    "# Multivariate analysis \n",
    "### To visualize the correlation between funding stage, funding amount, and sector using a scatter plot:"
   ]
  },
  {
   "cell_type": "code",
   "execution_count": null,
   "id": "0a5241fe",
   "metadata": {},
   "outputs": [],
   "source": [
    "plt.figure(figsize=(10,8))\n",
    "sns.scatterplot(data=df, x='Stage', y='Amount($)', hue='Sector', alpha=0.5)\n",
    "plt.title('Correlation between Stage, Funding Amount, and Sector')\n",
    "plt.xlabel('Funding Stage')\n",
    "plt.ylabel('Amount($)')\n",
    "plt.show()\n"
   ]
  },
  {
   "cell_type": "markdown",
   "id": "4e32de50",
   "metadata": {},
   "source": [
    "The scatter plot with funding stage on the x-axis, funding amount on the y-axis, and different sectors represented by different colors. The alpha parameter is set to 0.5 to make the plot points partially transparent."
   ]
  }
 ],
 "metadata": {
  "kernelspec": {
   "display_name": "Python 3 (ipykernel)",
   "language": "python",
   "name": "python3"
  },
  "language_info": {
   "codemirror_mode": {
    "name": "ipython",
    "version": 3
   },
   "file_extension": ".py",
   "mimetype": "text/x-python",
   "name": "python",
   "nbconvert_exporter": "python",
   "pygments_lexer": "ipython3",
   "version": "3.9.13"
  }
 },
 "nbformat": 4,
 "nbformat_minor": 5
}
